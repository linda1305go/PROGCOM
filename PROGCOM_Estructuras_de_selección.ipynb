{
  "nbformat": 4,
  "nbformat_minor": 0,
  "metadata": {
    "colab": {
      "provenance": [],
      "authorship_tag": "ABX9TyMIs2+647qd0j0dRdJlDH3D",
      "include_colab_link": true
    },
    "kernelspec": {
      "name": "python3",
      "display_name": "Python 3"
    },
    "language_info": {
      "name": "python"
    }
  },
  "cells": [
    {
      "cell_type": "markdown",
      "metadata": {
        "id": "view-in-github",
        "colab_type": "text"
      },
      "source": [
        "<a href=\"https://colab.research.google.com/github/linda1305go/PROGCOM/blob/main/PROGCOM_Estructuras_de_selecci%C3%B3n.ipynb\" target=\"_parent\"><img src=\"https://colab.research.google.com/assets/colab-badge.svg\" alt=\"Open In Colab\"/></a>"
      ]
    },
    {
      "cell_type": "code",
      "execution_count": null,
      "metadata": {
        "id": "-awq0TNYOfCi"
      },
      "outputs": [],
      "source": [
        "a=int(input(\"Ingresse el dividendo\"))\n",
        "b=int(input(\"Ingrese el divisor\"))\n",
        "try:\n",
        "  division=a/b\n",
        "  print(f\"{a}/{b}={division}\")\n",
        "except ZeroDivisiomError:\n",
        "  print(\"infinito\")"
      ]
    },
    {
      "cell_type": "markdown",
      "source": [
        "Hacer un programa que te pregunte si quiere helado. Si la respuesta es si, qué sabor de helado"
      ],
      "metadata": {
        "id": "K1N9OwRIPup_"
      }
    },
    {
      "cell_type": "code",
      "source": [
        "a=input(\"¿Quieres helado?\")\n",
        "a=a.lower()\n",
        "if a==\"s\":\n",
        "  f=input(\"¿Qué sabor quieres?\")\n",
        "  if f==\"chocolate\":print(f\"Aquí esta su helado de {f}. Son 5000\")\n",
        "  elif f==\"vainilla\":print(f\"Aquí esta su helado de {f}. Son 4000\")\n",
        "  elif f==\"fresa\":print(f\"Aquí esta su helado de {f}. Son 10000\")\n",
        "  elif f==\"rom con pasas\":print(f\"Aquí esta su helado de {f}. Son 7000\")\n",
        "  else:print(\"Losiento no hay ese sabor\")\n",
        " else:\n",
        "  print(\"okey\")"
      ],
      "metadata": {
        "id": "StVNhdWrP84V"
      },
      "execution_count": null,
      "outputs": []
    },
    {
      "cell_type": "code",
      "source": [
        "a=input(\"¿Quieres helado?\")\n",
        "a=a.lower()\n",
        "if a==\"s\":\n",
        "  f=input(\"¿Qué sabor quieres?\")\n",
        "  match f:\n",
        "    case \"chocolate\":print(f\"Aquí esta su helado de {f}. Son 5000\")\n",
        "    case \"vainilla\":print(f\"Aquí esta su helado de {f}. Son 4000\")\n",
        "    case \"fresa\":print(f\"Aquí esta su helado de {f}. Son 10000\")\n",
        "    case \"rom con pasas\":print(f\"Aquí esta su helado de {f}. Son 7000\")\n",
        "    case _: print(\"Losiento no hay ese sabor\")\n",
        " else:\n",
        "  print(\"okey\")"
      ],
      "metadata": {
        "id": "1FLCgTcES8WN"
      },
      "execution_count": null,
      "outputs": []
    },
    {
      "cell_type": "code",
      "source": [
        "  # Pregunta al usuario qué lenguaje de programación desea aprender\n",
        "lenguaje = input(\"¿Qué lenguaje de programación deseas aprender? \").lower()\n",
        "\n",
        "# Usa match y case para mostrar un mensaje basado en la entrada del usuario\n",
        "match lenguaje:\n",
        "    case \"python\":\n",
        "        print(\"Python es un lenguaje de programación muy popular, conocido por su simplicidad y legibilidad. Es ideal para principiantes.\")\n",
        "    case \"javascript\":\n",
        "        print(\"JavaScript es el lenguaje del desarrollo web. Es esencial para crear sitios web interactivos y dinámicos.\")\n",
        "    case \"java\":\n",
        "        print(\"Java es un lenguaje de programación orientado a objetos, ampliamente utilizado en aplicaciones empresariales y móviles.\")\n",
        "    case \"c++\":\n",
        "        print(\"C++ es un lenguaje de programación de alto rendimiento, popular en el desarrollo de software de sistemas y juegos.\")\n",
        "    case \"ruby\":\n",
        "        print(\"Ruby es un lenguaje de programación simple y elegante, conocido por su enfoque en la productividad y la simplicidad.\")\n",
        "    case \"HTML\":\n",
        "        print(\"Bb eso no es lenguaje de programación\")\n",
        "    case _:\n",
        "        print(\"Lo siento, no tengo información sobre ese lenguaje. Intenta con otro.\")"
      ],
      "metadata": {
        "colab": {
          "base_uri": "https://localhost:8080/"
        },
        "id": "g2QPbHIJW49r",
        "outputId": "e614d8db-adc4-4695-fd8c-f5bc2de1f192"
      },
      "execution_count": 14,
      "outputs": [
        {
          "output_type": "stream",
          "name": "stdout",
          "text": [
            "¿Qué lenguaje de programación deseas aprender? C++\n",
            "C++ es un lenguaje de programación de alto rendimiento, popular en el desarrollo de software de sistemas y juegos.\n"
          ]
        }
      ]
    },
    {
      "cell_type": "code",
      "source": [
        "# Pregunta al usuario qué lenguaje de programación desea aprender\n",
        "lenguaje = input(\"¿Qué lenguaje de programación deseas aprender? \").lower()\n",
        "\n",
        "# Usa if y elif para mostrar un mensaje basado en la entrada del usuario\n",
        "if lenguaje == \"python\":\n",
        "    print(\"Python es un lenguaje de programación muy popular, conocido por su simplicidad y legibilidad. Es ideal para principiantes.\")\n",
        "elif lenguaje == \"javascript\":\n",
        "    print(\"JavaScript es el lenguaje del desarrollo web. Es esencial para crear sitios web interactivos y dinámicos.\")\n",
        "elif lenguaje == \"java\":\n",
        "    print(\"Java es un lenguaje de programación orientado a objetos, ampliamente utilizado en aplicaciones empresariales y móviles.\")\n",
        "elif lenguaje == \"c++\":\n",
        "    print(\"C++ es un lenguaje de programación de alto rendimiento, popular en el desarrollo de software de sistemas y juegos.\")\n",
        "elif lenguaje == \"ruby\":\n",
        "    print(\"Ruby es un lenguaje de programación simple y elegante, conocido por su enfoque en la productividad y la simplicidad.\")\n",
        "elif lenguaje == \"HTML\":\n",
        "    print(\"Bb eso no es lenguaje de programación\")\n",
        "else:\n",
        "    print(\"Lo siento, no tengo información sobre ese lenguaje. Intenta con otro.\")"
      ],
      "metadata": {
        "colab": {
          "base_uri": "https://localhost:8080/"
        },
        "id": "kBZ6KweqXjkB",
        "outputId": "152ae405-59a4-49c9-934b-63a79f96fbd0"
      },
      "execution_count": 16,
      "outputs": [
        {
          "output_type": "stream",
          "name": "stdout",
          "text": [
            "¿Qué lenguaje de programación deseas aprender? HTML\n",
            "Lo siento, no tengo información sobre ese lenguaje. Intenta con otro.\n"
          ]
        }
      ]
    },
    {
      "cell_type": "code",
      "source": [
        "a, b, c, d, e = 5, 3, 8, 1, 7  # Ejemplo de números\n",
        "\n",
        "print(\"Los números no son diferentes\") if len({a, b, c, d, e}) != 5 else print(f\"El mayor número es: {a if a > b and a > c and a > d and a > e else b if b > c and b > d and b > e else c if c > d and c > e else d if d > e else e}\")\n"
      ],
      "metadata": {
        "colab": {
          "base_uri": "https://localhost:8080/"
        },
        "id": "2TlyizYtY6z-",
        "outputId": "a0abced4-1365-47e6-c733-5678eb4ce75e"
      },
      "execution_count": 18,
      "outputs": [
        {
          "output_type": "stream",
          "name": "stdout",
          "text": [
            "El mayor número es: 8\n"
          ]
        }
      ]
    },
    {
      "cell_type": "code",
      "source": [
        "caracter = 'A'  # Ejemplo de caracter\n",
        "\n",
        "if caracter in 'AEIOU':\n",
        "    print(\"Es una vocal mayúscula\")\n",
        "elif caracter in 'aeiou':\n",
        "    print(\"Es una vocal minúscula\")\n",
        "else:\n",
        "    print(\"No es una vocal\")"
      ],
      "metadata": {
        "colab": {
          "base_uri": "https://localhost:8080/"
        },
        "id": "lwRpCV9KarL6",
        "outputId": "bbb9e9aa-7a55-493c-cdfd-e2cb11c85dc8"
      },
      "execution_count": 24,
      "outputs": [
        {
          "output_type": "stream",
          "name": "stdout",
          "text": [
            "Es una vocal mayúscula\n"
          ]
        }
      ]
    },
    {
      "cell_type": "code",
      "source": [
        "caracter = 'A'  # Ejemplo de caracter\n",
        "\n",
        "match caracter:\n",
        "    case 'A' | 'E' | 'I' | 'O' | 'U':\n",
        "        print(\"Es una vocal mayúscula\")\n",
        "    case 'a' | 'e' | 'i' | 'o' | 'u':\n",
        "        print(\"Es una vocal minúscula\")\n",
        "    case _:\n",
        "        print(\"No es una vocal\")"
      ],
      "metadata": {
        "colab": {
          "base_uri": "https://localhost:8080/"
        },
        "id": "rMRda0nUaxWR",
        "outputId": "5fa7b721-13a1-4000-d99e-cbb4ba2f86e4"
      },
      "execution_count": 20,
      "outputs": [
        {
          "output_type": "stream",
          "name": "stdout",
          "text": [
            "Es una vocal mayúscula\n"
          ]
        }
      ]
    },
    {
      "cell_type": "code",
      "source": [
        "numero = 4  # Ejemplo de número\n",
        "\n",
        "if numero < 0 or numero > 9:\n",
        "    print(\"El número no pertenece al rango 0-9\")\n",
        "elif numero % 2 == 0:\n",
        "    print(\"El número es par\")\n",
        "else:\n",
        "    print(\"El número es impar\")"
      ],
      "metadata": {
        "colab": {
          "base_uri": "https://localhost:8080/"
        },
        "id": "spglcivCa1qQ",
        "outputId": "6e8d86e6-50e1-4c7b-f605-43eeabfb2c9d"
      },
      "execution_count": 22,
      "outputs": [
        {
          "output_type": "stream",
          "name": "stdout",
          "text": [
            "El número es par\n"
          ]
        }
      ]
    },
    {
      "cell_type": "code",
      "source": [
        "numero = 4  # Ejemplo de número\n",
        "\n",
        "match numero:\n",
        "    case n if n < 0 or n > 9:\n",
        "        print(\"El número no pertenece al rango 0-9\")\n",
        "    case n if n % 2 == 0:\n",
        "        print(\"El número es par\")\n",
        "    case _:\n",
        "        print(\"El número es impar\")"
      ],
      "metadata": {
        "colab": {
          "base_uri": "https://localhost:8080/"
        },
        "id": "cCfW4qU0a4sw",
        "outputId": "a7f5c62b-1d6a-47e3-e152-6e6d8b1f96ff"
      },
      "execution_count": 21,
      "outputs": [
        {
          "output_type": "stream",
          "name": "stdout",
          "text": [
            "El número es par\n"
          ]
        }
      ]
    },
    {
      "cell_type": "code",
      "source": [
        "a, b, c, d, e = 5, 3, 8, 1, 7  # Ejemplo de números\n",
        "\n",
        "print(\"Los números no son diferentes\") if len({a, b, c, d, e}) != 5 else print(f\"El mayor número es: {a if a > b and a > c and a > d and a > e else b if b > c and b > d and b > e else c if c > d and c > e else d if d > e else e}\")"
      ],
      "metadata": {
        "colab": {
          "base_uri": "https://localhost:8080/"
        },
        "id": "eSNBP5-AbpOX",
        "outputId": "85a615de-6f86-4a12-8b06-162eab99e724"
      },
      "execution_count": 25,
      "outputs": [
        {
          "output_type": "stream",
          "name": "stdout",
          "text": [
            "El mayor número es: 8\n"
          ]
        }
      ]
    },
    {
      "cell_type": "code",
      "source": [
        "edad1, edad2, edad3 = 16, 21, 10  # Ejemplo de edades\n",
        "\n",
        "mayor = edad1 if edad1 > edad2 and edad1 > edad3 else edad2 if edad2 > edad3 else edad3\n",
        "print(f\"La mayor edad es: {mayor}, Categoría: {'Adulto' if mayor >= 18 else 'Adolescente' if mayor >= 13 else 'Niño'}\")"
      ],
      "metadata": {
        "colab": {
          "base_uri": "https://localhost:8080/"
        },
        "id": "JIgS2dEmbqnX",
        "outputId": "ebb3f672-9623-47ff-faf2-55c12bbc7a55"
      },
      "execution_count": 26,
      "outputs": [
        {
          "output_type": "stream",
          "name": "stdout",
          "text": [
            "La mayor edad es: 21, Categoría: Adulto\n"
          ]
        }
      ]
    },
    {
      "cell_type": "code",
      "source": [],
      "metadata": {
        "id": "P_MYi_93dAoM"
      },
      "execution_count": null,
      "outputs": []
    }
  ]
}