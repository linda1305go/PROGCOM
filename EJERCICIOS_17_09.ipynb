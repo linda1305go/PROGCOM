{
  "nbformat": 4,
  "nbformat_minor": 0,
  "metadata": {
    "colab": {
      "provenance": [],
      "authorship_tag": "ABX9TyNauzzW1hw5QYneEbwD6Sax",
      "include_colab_link": true
    },
    "kernelspec": {
      "name": "python3",
      "display_name": "Python 3"
    },
    "language_info": {
      "name": "python"
    }
  },
  "cells": [
    {
      "cell_type": "markdown",
      "metadata": {
        "id": "view-in-github",
        "colab_type": "text"
      },
      "source": [
        "<a href=\"https://colab.research.google.com/github/linda1305go/PROGCOM/blob/main/EJERCICIOS_17_09.ipynb\" target=\"_parent\"><img src=\"https://colab.research.google.com/assets/colab-badge.svg\" alt=\"Open In Colab\"/></a>"
      ]
    },
    {
      "cell_type": "code",
      "execution_count": null,
      "metadata": {
        "colab": {
          "base_uri": "https://localhost:8080/",
          "height": 419
        },
        "id": "G01vFxMdbgwb",
        "outputId": "c05f9be1-0dbc-49ac-e8c9-ae056857461f"
      },
      "outputs": [
        {
          "output_type": "stream",
          "name": "stdout",
          "text": [
            "Digite su nombre: lida\n",
            "Digite su código: 99\n",
            "\n",
            "UNIVERSIDAD AUTÓNOMA DE BUCARAMANGA\n",
            "Nombre del estudiante: lida\n",
            "Código: 99\n"
          ]
        },
        {
          "output_type": "error",
          "ename": "FileNotFoundError",
          "evalue": "[Errno 2] No such file or directory: 'ruta_a_la_imagen_del_logo.jpeg'",
          "traceback": [
            "\u001b[0;31m---------------------------------------------------------------------------\u001b[0m",
            "\u001b[0;31mFileNotFoundError\u001b[0m                         Traceback (most recent call last)",
            "\u001b[0;32m<ipython-input-6-931740d3e7b0>\u001b[0m in \u001b[0;36m<cell line: 16>\u001b[0;34m()\u001b[0m\n\u001b[1;32m     14\u001b[0m \u001b[0;34m\u001b[0m\u001b[0m\n\u001b[1;32m     15\u001b[0m \u001b[0;31m# Mostrar el logo de la universidad\u001b[0m\u001b[0;34m\u001b[0m\u001b[0;34m\u001b[0m\u001b[0m\n\u001b[0;32m---> 16\u001b[0;31m \u001b[0mlogo\u001b[0m \u001b[0;34m=\u001b[0m \u001b[0mImage\u001b[0m\u001b[0;34m.\u001b[0m\u001b[0mopen\u001b[0m\u001b[0;34m(\u001b[0m\u001b[0mruta_logo\u001b[0m\u001b[0;34m)\u001b[0m\u001b[0;34m\u001b[0m\u001b[0;34m\u001b[0m\u001b[0m\n\u001b[0m\u001b[1;32m     17\u001b[0m \u001b[0mlogo\u001b[0m\u001b[0;34m.\u001b[0m\u001b[0mshow\u001b[0m\u001b[0;34m(\u001b[0m\u001b[0;34m)\u001b[0m\u001b[0;34m\u001b[0m\u001b[0;34m\u001b[0m\u001b[0m\n",
            "\u001b[0;32m/usr/local/lib/python3.10/dist-packages/PIL/Image.py\u001b[0m in \u001b[0;36mopen\u001b[0;34m(fp, mode, formats)\u001b[0m\n\u001b[1;32m   3225\u001b[0m \u001b[0;34m\u001b[0m\u001b[0m\n\u001b[1;32m   3226\u001b[0m     \u001b[0;32mif\u001b[0m \u001b[0mfilename\u001b[0m\u001b[0;34m:\u001b[0m\u001b[0;34m\u001b[0m\u001b[0;34m\u001b[0m\u001b[0m\n\u001b[0;32m-> 3227\u001b[0;31m         \u001b[0mfp\u001b[0m \u001b[0;34m=\u001b[0m \u001b[0mbuiltins\u001b[0m\u001b[0;34m.\u001b[0m\u001b[0mopen\u001b[0m\u001b[0;34m(\u001b[0m\u001b[0mfilename\u001b[0m\u001b[0;34m,\u001b[0m \u001b[0;34m\"rb\"\u001b[0m\u001b[0;34m)\u001b[0m\u001b[0;34m\u001b[0m\u001b[0;34m\u001b[0m\u001b[0m\n\u001b[0m\u001b[1;32m   3228\u001b[0m         \u001b[0mexclusive_fp\u001b[0m \u001b[0;34m=\u001b[0m \u001b[0;32mTrue\u001b[0m\u001b[0;34m\u001b[0m\u001b[0;34m\u001b[0m\u001b[0m\n\u001b[1;32m   3229\u001b[0m \u001b[0;34m\u001b[0m\u001b[0m\n",
            "\u001b[0;31mFileNotFoundError\u001b[0m: [Errno 2] No such file or directory: 'ruta_a_la_imagen_del_logo.jpeg'"
          ]
        }
      ],
      "source": [
        "from PIL import Image\n",
        "\n",
        "# Solicitar el nombre y el código del estudiante\n",
        "nombre = input(\"Digite su nombre: \")\n",
        "codigo = input(\"Digite su código: \")\n",
        "\n",
        "# Imprimir la información del estudiante y la universidad\n",
        "print(\"\\nUNIVERSIDAD AUTÓNOMA DE BUCARAMANGA\")\n",
        "print(\"Nombre del estudiante: \" + nombre)\n",
        "print(\"Código: \" + codigo)\n",
        "\n",
        "# Ruta de la imagen del logo (actualiza con la ruta real en tu sistema)\n",
        "ruta_logo = \"ruta_a_la_imagen_del_logo.jpeg\"\n",
        "\n",
        "# Mostrar el logo de la universidad\n",
        "logo = Image.open(ruta_logo)\n",
        "logo.show()"
      ]
    },
    {
      "cell_type": "code",
      "source": [
        "import math\n",
        "\n",
        "# Solicitar el radio y la altura del cono\n",
        "radio = float(input(\"Ingrese el radio de la base del cono: \"))\n",
        "altura = float(input(\"Ingrese la altura del cono: \"))\n",
        "\n",
        "# Calcular el volumen utilizando la fórmula V = (1/3) * pi * r^2 * h\n",
        "volumen = (1/3) * math.pi * (radio ** 2) * altura\n",
        "\n",
        "# Imprimir el resultado\n",
        "print(\"El volumen del cono es:\", volumen, \"unidades cúbicas\")"
      ],
      "metadata": {
        "colab": {
          "base_uri": "https://localhost:8080/"
        },
        "id": "LFn49peRfh4W",
        "outputId": "451bba11-13b0-4ee7-8305-6b108ee4bc81"
      },
      "execution_count": null,
      "outputs": [
        {
          "output_type": "stream",
          "name": "stdout",
          "text": [
            "Ingrese el radio de la base del cono: 30\n",
            "Ingrese la altura del cono: 50\n",
            "El volumen del cono es: 47123.8898038469 unidades cúbicas\n"
          ]
        }
      ]
    },
    {
      "cell_type": "code",
      "source": [
        "# Leer la temperatura en grados centígrados\n",
        "celsius = float(input(\"Ingrese la temperatura en grados centígrados (°C): \"))\n",
        "\n",
        "# Convertir a grados Fahrenheit\n",
        "fahrenheit = (celsius * 9/5) + 32\n",
        "\n",
        "# Convertir a grados Kelvin\n",
        "kelvin = celsius + 273.15\n",
        "\n",
        "# Imprimir los resultados\n",
        "print(\"La temperatura en grados Fahrenheit es:\", fahrenheit, \"°F\")\n",
        "print(\"La temperatura en grados Kelvin es:\", kelvin, \"K\")"
      ],
      "metadata": {
        "colab": {
          "base_uri": "https://localhost:8080/"
        },
        "id": "05Zvs1bTfytW",
        "outputId": "6a92b05c-c047-44cd-ca06-9563e8b30482"
      },
      "execution_count": null,
      "outputs": [
        {
          "output_type": "stream",
          "name": "stdout",
          "text": [
            "Ingrese la temperatura en grados centígrados (°C): 80\n",
            "La temperatura en grados Fahrenheit es: 176.0 °F\n",
            "La temperatura en grados Kelvin es: 353.15 K\n"
          ]
        }
      ]
    },
    {
      "cell_type": "code",
      "source": [
        "# Definir artículos y precios\n",
        "articulo1 = \"Camiseta\"\n",
        "precio1 = 20.00\n",
        "\n",
        "articulo2 = \"Pantalones\"\n",
        "precio2 = 35.00\n",
        "\n",
        "articulo3 = \"Zapatos\"\n",
        "precio3 = 50.00\n",
        "\n",
        "# Programa principal\n",
        "def main():\n",
        "    # Dar bienvenida al cliente\n",
        "    print(\"¡Bienvenido a nuestra tienda!\")\n",
        "\n",
        "    # Solicitar al usuario que elija un artículo\n",
        "    print(\"Por favor, elija un artículo: Camiseta, Pantalones, Zapatos\")\n",
        "    seleccion = input(\"Artículo: \")\n",
        "\n",
        "    # Indicar el precio del artículo seleccionado\n",
        "    if seleccion == articulo1:\n",
        "        print(f\"El precio de la {articulo1} es ${precio1:.2f}\")\n",
        "    elif seleccion == articulo2:\n",
        "        print(f\"El precio de los {articulo2} es ${precio2:.2f}\")\n",
        "    elif seleccion == articulo3:\n",
        "        print(f\"El precio de los {articulo3} es ${precio3:.2f}\")\n",
        "    else:\n",
        "        print(\"Lo siento, no tenemos ese artículo.\")\n",
        "\n",
        "# Ejecutar el programa\n",
        "main()"
      ],
      "metadata": {
        "colab": {
          "base_uri": "https://localhost:8080/"
        },
        "id": "REovPKVHgKge",
        "outputId": "40166715-2446-407a-aba2-7b103c57b31f"
      },
      "execution_count": null,
      "outputs": [
        {
          "output_type": "stream",
          "name": "stdout",
          "text": [
            "¡Bienvenido a nuestra tienda!\n",
            "Por favor, elija un artículo: Camiseta, Pantalones, Zapatos\n",
            "Artículo: Camiseta\n",
            "El precio de la Camiseta es $20.00\n"
          ]
        }
      ]
    },
    {
      "cell_type": "code",
      "source": [
        "# Programa para calcular la resistencia total\n",
        "\n",
        "# Solicitar al usuario el tipo de conexión\n",
        "print(\"¿Cómo están conectadas las resistencias?\")\n",
        "print(\"1. En serie\")\n",
        "print(\"2. En paralelo\")\n",
        "conexion = int(input(\"Ingrese 1 o 2: \"))\n",
        "\n",
        "# Inicializar variables para resistencias\n",
        "resistencia_total = 0.0\n",
        "\n",
        "if conexion == 1:\n",
        "    # Conexión en serie\n",
        "    print(\"Ingrese el número de resistencias en serie:\")\n",
        "    n = int(input())\n",
        "\n",
        "    for i in range(n):\n",
        "        resistencia = float(input(f\"Ingrese el valor de la resistencia {i+1} (ohmios): \"))\n",
        "        resistencia_total += resistencia\n",
        "\n",
        "    print(f\"La resistencia total en serie es {resistencia_total:.2f} ohmios\")\n",
        "\n",
        "elif conexion == 2:\n",
        "    # Conexión en paralelo\n",
        "    print(\"Ingrese el número de resistencias en paralelo:\")\n",
        "    n = int(input())\n",
        "\n",
        "    suma_inversos = 0.0\n",
        "    for i in range(n):\n",
        "        resistencia = float(input(f\"Ingrese el valor de la resistencia {i+1} (ohmios): \"))\n",
        "        suma_inversos += 1 / resistencia\n",
        "\n",
        "    if suma_inversos != 0:\n",
        "        resistencia_total = 1 / suma_inversos\n",
        "    else:\n",
        "        resistencia_total = 0\n",
        "\n",
        "    print(f\"La resistencia total en paralelo es {resistencia_total:.2f} ohmios\")\n",
        "\n",
        "else:\n",
        "    print(\"Opción inválida\")"
      ],
      "metadata": {
        "colab": {
          "base_uri": "https://localhost:8080/"
        },
        "id": "E0i3WJLhg0YG",
        "outputId": "dc5ad6f1-debc-439f-dbc5-27fd22700099"
      },
      "execution_count": null,
      "outputs": [
        {
          "output_type": "stream",
          "name": "stdout",
          "text": [
            "¿Cómo están conectadas las resistencias?\n",
            "1. En serie\n",
            "2. En paralelo\n",
            "Ingrese 1 o 2: 1\n",
            "Ingrese el número de resistencias en serie:\n",
            "6\n",
            "Ingrese el valor de la resistencia 1 (ohmios): 2\n",
            "Ingrese el valor de la resistencia 2 (ohmios): 9\n",
            "Ingrese el valor de la resistencia 3 (ohmios): 6\n",
            "Ingrese el valor de la resistencia 4 (ohmios): 5\n",
            "Ingrese el valor de la resistencia 5 (ohmios): 3\n",
            "Ingrese el valor de la resistencia 6 (ohmios): 9\n",
            "La resistencia total en serie es 34.00 ohmios\n"
          ]
        }
      ]
    },
    {
      "cell_type": "code",
      "source": [
        "# Leer la temperatura en grados Celsius\n",
        "celsius = float(input(\"Ingrese la temperatura en grados Celsius (°C): \"))\n",
        "\n",
        "# Verificar si la temperatura es positiva\n",
        "if celsius >= 0:\n",
        "    # Convertir a grados Fahrenheit\n",
        "    fahrenheit = (celsius * 9/5) + 32\n",
        "\n",
        "    # Convertir a grados Kelvin\n",
        "    kelvin = celsius + 273.15\n",
        "\n",
        "    # Mostrar los resultados\n",
        "    print(f\"La temperatura en grados Fahrenheit (°F) es: {fahrenheit:.2f}\")\n",
        "    print(f\"La temperatura en grados Kelvin (°K) es: {kelvin:.2f}\")\n",
        "else:\n",
        "    print(\"La temperatura debe ser positiva.\")"
      ],
      "metadata": {
        "colab": {
          "base_uri": "https://localhost:8080/"
        },
        "id": "VRJTay5ghNiN",
        "outputId": "9dd33258-fd4f-4c7a-9e1f-a1f382c9ed9f"
      },
      "execution_count": null,
      "outputs": [
        {
          "output_type": "stream",
          "name": "stdout",
          "text": [
            "Ingrese la temperatura en grados Celsius (°C): 50\n",
            "La temperatura en grados Fahrenheit (°F) es: 122.00\n",
            "La temperatura en grados Kelvin (°K) es: 323.15\n"
          ]
        }
      ]
    },
    {
      "cell_type": "code",
      "source": [
        "# Leer las horas y minutos en formato de 24 horas\n",
        "horas = int(input(\"Ingrese las horas (0-23): \"))\n",
        "minutos = int(input(\"Ingrese los minutos (0-59): \"))\n",
        "\n",
        "# Verificar si la entrada es válida\n",
        "if 0 <= horas <= 23 and 0 <= minutos <= 59:\n",
        "    # Convertir la hora del formato de 24 horas al formato de 12 horas\n",
        "    if horas == 0:\n",
        "        hora_12 = 12\n",
        "        periodo = \"AM\"\n",
        "    elif horas == 12:\n",
        "        hora_12 = 12\n",
        "        periodo = \"PM\"\n",
        "    elif horas > 12:\n",
        "        hora_12 = horas - 12\n",
        "        periodo = \"PM\"\n",
        "    else:\n",
        "        hora_12 = horas\n",
        "        periodo = \"AM\"\n",
        "\n",
        "    # Mostrar el resultado en formato de 12 horas\n",
        "    print(f\"Hora en formato de 12 horas: {hora_12}:{minutos:02d} {periodo}\")\n",
        "else:\n",
        "    print(\"La entrada de horas o minutos no es válida.\")"
      ],
      "metadata": {
        "colab": {
          "base_uri": "https://localhost:8080/"
        },
        "id": "wDl1tiGihfx-",
        "outputId": "bc4988b2-fc82-427a-f301-6a83dc56c328"
      },
      "execution_count": null,
      "outputs": [
        {
          "output_type": "stream",
          "name": "stdout",
          "text": [
            "Ingrese las horas (0-23): 12\n",
            "Ingrese los minutos (0-59): 52\n",
            "Hora en formato de 12 horas: 12:52 PM\n"
          ]
        }
      ]
    },
    {
      "cell_type": "code",
      "source": [
        "# Solicitar el nombre del estudiante\n",
        "nombre = input(\"Digite su nombre: \")\n",
        "\n",
        "# Solicitar el código del estudiante\n",
        "codigo = input(\"Digite su código: \")\n",
        "\n",
        "# Definir la institución educativa\n",
        "institucion = \"UNIVERSIDAD AUTÓNOMA DE BUCARAMANGA\"\n",
        "\n",
        "# Verificar que el código tenga la longitud correcta\n",
        "if len(codigo) == 9 and codigo.startswith('U'):\n",
        "    # Extraer los cuatro dígitos después de la 'U'\n",
        "    codigo_carrera = codigo[1:5]\n",
        "\n",
        "    # Clasificar la carrera basada en los primeros cuatro dígitos\n",
        "    if codigo_carrera == '0001':\n",
        "        carrera = \"Telecomunicaciones\"\n",
        "    elif codigo_carrera == '0017':\n",
        "        carrera = \"Financiera\"\n",
        "    elif codigo_carrera == '0023':\n",
        "        carrera = \"Ingeniería Mecatrónica\"  # Ejemplo de carrera adicional\n",
        "    else:\n",
        "        carrera = \"Desconocida\"\n",
        "\n",
        "    # Imprimir la información\n",
        "    print(institucion)\n",
        "    print(f\"Nombre del estudiante: {nombre}\")\n",
        "    print(f\"Código: {codigo}\")\n",
        "    print(f\"Carrera: {carrera}\")\n",
        "else:\n",
        "    print(\"Código inválido. Asegúrese de que el código tenga 10 caracteres y comience con 'U'.\")"
      ],
      "metadata": {
        "colab": {
          "base_uri": "https://localhost:8080/"
        },
        "id": "P6Fbo-5Uhzmt",
        "outputId": "e4adb56e-422d-4fc2-be63-256741d626a4"
      },
      "execution_count": null,
      "outputs": [
        {
          "output_type": "stream",
          "name": "stdout",
          "text": [
            "Digite su nombre: Linda\n",
            "Digite su código: U00178771\n",
            "UNIVERSIDAD AUTÓNOMA DE BUCARAMANGA\n",
            "Nombre del estudiante: Linda\n",
            "Código: U00178771\n",
            "Carrera: Financiera\n"
          ]
        }
      ]
    }
  ]
}