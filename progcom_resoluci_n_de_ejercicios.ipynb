{
  "nbformat": 4,
  "nbformat_minor": 0,
  "metadata": {
    "colab": {
      "provenance": [],
      "authorship_tag": "ABX9TyPcwjk3hwWvIQJTQxMQqURo",
      "include_colab_link": true
    },
    "kernelspec": {
      "name": "python3",
      "display_name": "Python 3"
    },
    "language_info": {
      "name": "python"
    }
  },
  "cells": [
    {
      "cell_type": "markdown",
      "metadata": {
        "id": "view-in-github",
        "colab_type": "text"
      },
      "source": [
        "<a href=\"https://colab.research.google.com/github/linda1305go/PROGCOM/blob/main/progcom_resoluci_n_de_ejercicios.ipynb\" target=\"_parent\"><img src=\"https://colab.research.google.com/assets/colab-badge.svg\" alt=\"Open In Colab\"/></a>"
      ]
    },
    {
      "cell_type": "code",
      "execution_count": null,
      "metadata": {
        "colab": {
          "base_uri": "https://localhost:8080/"
        },
        "id": "zNa0pXBK_0wz",
        "outputId": "3edcb0de-248d-46fd-d12c-5c457a9d02e8"
      },
      "outputs": [
        {
          "output_type": "stream",
          "name": "stdout",
          "text": [
            "Introducir un número 5\n",
            "2/1+4/3+6/5+8/7+10/9=6.787301587301586\n"
          ]
        }
      ],
      "source": [
        "#Linda<3\n",
        "#n es el termino enésimo número de la serie\n",
        "n=int(input(\"Introducir un número \"))\n",
        "resultado=0\n",
        "numerador=2\n",
        "denominador=1\n",
        "contador=1\n",
        "while contador<=n:\n",
        "    if contador==n:\n",
        "        print(f\"{numerador}/{denominador}\",end=\"=\")\n",
        "    else:\n",
        "     print(f\"{numerador}/{denominador}\",end=\"+\")\n",
        "    resultado=resultado+(numerador/denominador)\n",
        "    numerador=numerador+2\n",
        "    denominador=denominador+2\n",
        "    contador=contador+1\n",
        "\n",
        "print(resultado)"
      ]
    },
    {
      "cell_type": "code",
      "source": [
        "#Sebastian<3\n",
        "#n es el termino enésimo número de la serie\n",
        "n=int(input(\"Introducir un número \"))\n",
        "lista=[0]*n\n",
        "resultado=0\n",
        "numerador=2\n",
        "denominador=1\n",
        "contador=1\n",
        "for i in lista:\n",
        "    if i==n:\n",
        "        print(f\"{numerador}/{denominador}\",end=\"=\")\n",
        "    else:\n",
        "     print(f\"{numerador}/{denominador}\",end=\"+\")\n",
        "    resultado=resultado+(numerador/denominador)\n",
        "    numerador=numerador+2\n",
        "    denominador=denominador+2\n",
        "\n",
        "\n",
        "print(resultado)"
      ],
      "metadata": {
        "colab": {
          "base_uri": "https://localhost:8080/"
        },
        "id": "EJxEIbgwFKnO",
        "outputId": "14d1de37-e26f-44bd-b798-e2347bfb0e8b"
      },
      "execution_count": null,
      "outputs": [
        {
          "output_type": "stream",
          "name": "stdout",
          "text": [
            "Introducir un número 4\n",
            "2/1+4/3+6/5+8/7+5.676190476190476\n"
          ]
        }
      ]
    },
    {
      "cell_type": "code",
      "source": [
        "lista=[1,2,3,4,5,6,7,8,9]\n",
        "for i in lista:\n",
        "    print(i)\n"
      ],
      "metadata": {
        "colab": {
          "base_uri": "https://localhost:8080/"
        },
        "id": "Co7_sW8GGNiP",
        "outputId": "57fcaa55-c00e-4457-9e38-986e2596745b"
      },
      "execution_count": null,
      "outputs": [
        {
          "output_type": "stream",
          "name": "stdout",
          "text": [
            "1\n",
            "2\n",
            "3\n",
            "4\n",
            "5\n",
            "6\n",
            "7\n",
            "8\n",
            "9\n"
          ]
        }
      ]
    },
    {
      "cell_type": "code",
      "source": [
        "n=int(input(\"Introducir un número \"))\n",
        "lista=[0]*n\n",
        "\n",
        "print(lista)\n"
      ],
      "metadata": {
        "colab": {
          "base_uri": "https://localhost:8080/"
        },
        "id": "vh7iic3GHaF-",
        "outputId": "125db875-d620-40a2-d0a6-866a5b3767bd"
      },
      "execution_count": null,
      "outputs": [
        {
          "output_type": "stream",
          "name": "stdout",
          "text": [
            "Introducir un número 7\n",
            "[0, 0, 0, 0, 0, 0, 0]\n"
          ]
        }
      ]
    },
    {
      "cell_type": "code",
      "source": [
        "#Mariana\n",
        "# leer un número entero n, serie:1-1/2+1/3-1/4+...+/-(1/n)\n",
        "n=int(input(\"Introducir un número \"))\n",
        "resultado=0\n",
        "contador=1\n",
        "for i in range(1,n+1):\n",
        "\n",
        "  if i%2==0:\n",
        "    resultado=resultado-1/i\n",
        "    print(f\"{1}/{i}\",end=\"+\")\n",
        "  else:\n",
        "    resultado=resultado+1/i\n",
        "    print(f\"{1}/{i}\",end=\"-\")\n",
        "  if i==n:\n",
        "    print(f\"{1}/{i}\",end=\"=\")\n",
        "\n",
        "\n",
        "print(resultado)"
      ],
      "metadata": {
        "colab": {
          "base_uri": "https://localhost:8080/"
        },
        "id": "3o_NFwV2Jo_k",
        "outputId": "a2dfbb5a-bf18-4d71-e9db-9eaa91049bde"
      },
      "execution_count": null,
      "outputs": [
        {
          "output_type": "stream",
          "name": "stdout",
          "text": [
            "Introducir un número 4\n",
            "1/1-1/2+1/3-1/4+1/4=0.5833333333333333\n"
          ]
        }
      ]
    }
  ]
}