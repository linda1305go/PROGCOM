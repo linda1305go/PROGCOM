{
  "nbformat": 4,
  "nbformat_minor": 0,
  "metadata": {
    "colab": {
      "provenance": [],
      "authorship_tag": "ABX9TyPQgyC4sM+9O3ZzQT1m4XRo",
      "include_colab_link": true
    },
    "kernelspec": {
      "name": "python3",
      "display_name": "Python 3"
    },
    "language_info": {
      "name": "python"
    }
  },
  "cells": [
    {
      "cell_type": "markdown",
      "metadata": {
        "id": "view-in-github",
        "colab_type": "text"
      },
      "source": [
        "<a href=\"https://colab.research.google.com/github/linda1305go/PROGCOM/blob/main/linda_pikachu_12_11.ipynb\" target=\"_parent\"><img src=\"https://colab.research.google.com/assets/colab-badge.svg\" alt=\"Open In Colab\"/></a>"
      ]
    },
    {
      "cell_type": "code",
      "execution_count": null,
      "metadata": {
        "id": "A4ud4phtHS3s"
      },
      "outputs": [],
      "source": [
        "class Charmander:\n",
        "    __tipo = 'Fuego'\n",
        "\n",
        "    def _init_(self, nombre, nivel, salud, voltaje_max, amperaje_max, color):\n",
        "        self.nombre = nombre\n",
        "        self.__nivel = nivel\n",
        "        self.__salud = salud\n",
        "        self.__voltaje_maximo = voltaje_max\n",
        "        self.__amperaje_maximo = amperaje_max\n",
        "        self.color = color\n",
        "\n",
        "    @property\n",
        "    def salud(self):\n",
        "        return self.__salud\n",
        "\n",
        "    @salud.setter\n",
        "    def salud(self, salud):\n",
        "        if 0 < salud < 5000:\n",
        "            self.__salud = salud\n",
        "        else:\n",
        "            print(\"La salud no puede ser negativa\")\n",
        "            print(\"La salud no puede ser mayor a 5000\")\n",
        "\n",
        "    def atacar(self):\n",
        "        print(f\"Charmander ataca y genera {self._nivel / 5} de daño usando su ataque de tipo {self._tipo}\")"
      ]
    }
  ]
}