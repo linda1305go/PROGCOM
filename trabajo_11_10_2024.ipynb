{
  "nbformat": 4,
  "nbformat_minor": 0,
  "metadata": {
    "colab": {
      "provenance": [],
      "authorship_tag": "ABX9TyM8SSu6Wx66VOcJHJFCKvP3",
      "include_colab_link": true
    },
    "kernelspec": {
      "name": "python3",
      "display_name": "Python 3"
    },
    "language_info": {
      "name": "python"
    }
  },
  "cells": [
    {
      "cell_type": "markdown",
      "metadata": {
        "id": "view-in-github",
        "colab_type": "text"
      },
      "source": [
        "<a href=\"https://colab.research.google.com/github/linda1305go/PROGCOM/blob/main/trabajo_11_10_2024.ipynb\" target=\"_parent\"><img src=\"https://colab.research.google.com/assets/colab-badge.svg\" alt=\"Open In Colab\"/></a>"
      ]
    },
    {
      "cell_type": "code",
      "source": [
        "import random\n",
        "\n",
        "def generar_pregunta():\n",
        "    operacion = random.choice([\"suma\", \"resta\", \"multiplicacion\", \"division\"])\n",
        "\n",
        "    if operacion == \"suma\":\n",
        "        a, b = random.randint(1, 20), random.randint(1, 20)\n",
        "        return f\"{a} + {b}\", a + b\n",
        "    elif operacion == \"resta\":\n",
        "        a, b = random.randint(1, 20), random.randint(1, 20)\n",
        "        return f\"{a} - {b}\", a - b\n",
        "    elif operacion == \"multiplicacion\":\n",
        "        a, b = random.randint(1, 10), random.randint(1, 10)\n",
        "        return f\"{a} * {b}\", a * b\n",
        "    elif operacion == \"division\":\n",
        "        b = random.randint(1, 10)\n",
        "        a = b * random.randint(1, 10)  # Asegura que la división sea entera\n",
        "        return f\"{a} / {b}\", a // b\n",
        "\n",
        "def juego():\n",
        "    print(\"¡Bienvenido al juego de matemáticas!\")\n",
        "\n",
        "    respuestas_correctas = 0\n",
        "\n",
        "    while respuestas_correctas < 10:\n",
        "        pregunta, respuesta_correcta = generar_pregunta()\n",
        "        print(f\"Pregunta: {pregunta}\")\n",
        "        respuesta_usuario = input(\"Tu respuesta: \")\n",
        "\n",
        "        try:\n",
        "            if int(respuesta_usuario) == respuesta_correcta:\n",
        "                respuestas_correctas += 1\n",
        "                print(\"¡Correcto!\")\n",
        "            else:\n",
        "                print(f\"Incorrecto. La respuesta correcta era {respuesta_correcta}.\")\n",
        "                respuestas_correctas = 0  # Reiniciar contador si se falla\n",
        "        except ValueError:\n",
        "            print(\"Por favor, ingresa un número válido.\")\n",
        "\n",
        "    print(\"¡Felicidades! Has respondido 10 preguntas correctamente.\")\n",
        "\n",
        "if __name__ == \"__main__\":\n",
        "    juego()"
      ],
      "metadata": {
        "colab": {
          "base_uri": "https://localhost:8080/"
        },
        "id": "5TODMjrGrTnP",
        "outputId": "28009ef1-cdfb-45f6-86a3-3827c6c6ab23"
      },
      "execution_count": 2,
      "outputs": [
        {
          "output_type": "stream",
          "name": "stdout",
          "text": [
            "¡Bienvenido al juego de matemáticas!\n",
            "Pregunta: 72 / 8\n",
            "Tu respuesta: 9\n",
            "¡Correcto!\n",
            "Pregunta: 4 + 9\n",
            "Tu respuesta: 13\n",
            "¡Correcto!\n",
            "Pregunta: 16 - 4\n",
            "Tu respuesta: 12\n",
            "¡Correcto!\n",
            "Pregunta: 6 * 2\n",
            "Tu respuesta: 16\n",
            "Incorrecto. La respuesta correcta era 12.\n",
            "Pregunta: 20 - 2\n",
            "Tu respuesta: 18\n",
            "¡Correcto!\n",
            "Pregunta: 19 - 12\n",
            "Tu respuesta: 7\n",
            "¡Correcto!\n",
            "Pregunta: 9 - 8\n",
            "Tu respuesta: 1\n",
            "¡Correcto!\n",
            "Pregunta: 2 / 1\n",
            "Tu respuesta: 2\n",
            "¡Correcto!\n",
            "Pregunta: 4 * 3\n",
            "Tu respuesta: 12\n",
            "¡Correcto!\n",
            "Pregunta: 7 + 12\n",
            "Tu respuesta: 19\n",
            "¡Correcto!\n",
            "Pregunta: 8 - 15\n",
            "Tu respuesta: -7\n",
            "¡Correcto!\n",
            "Pregunta: 5 + 14\n",
            "Tu respuesta: 19\n",
            "¡Correcto!\n",
            "Pregunta: 9 * 1\n",
            "Tu respuesta: 9\n",
            "¡Correcto!\n",
            "Pregunta: 15 / 5\n",
            "Tu respuesta: 3\n",
            "¡Correcto!\n",
            "¡Felicidades! Has respondido 10 preguntas correctamente.\n"
          ]
        }
      ]
    }
  ]
}