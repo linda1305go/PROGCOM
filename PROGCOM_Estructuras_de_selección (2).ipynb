{
  "nbformat": 4,
  "nbformat_minor": 0,
  "metadata": {
    "colab": {
      "provenance": []
    },
    "kernelspec": {
      "name": "python3",
      "display_name": "Python 3"
    },
    "language_info": {
      "name": "python"
    }
  },
  "cells": [
    {
      "cell_type": "markdown",
      "source": [
        "#Estructuras de selección\n",
        "1. si - sino -: if - else\n",
        "2. Operador terminario\n",
        "3. Estructura Switch\n",
        "\n",
        "*   if/elif/else\n",
        "*   match - case\n",
        "\n",
        "\n",
        "\n"
      ],
      "metadata": {
        "id": "3iBZww2dEGNb"
      }
    },
    {
      "cell_type": "code",
      "source": [
        "#Las variables se escriben en minúscula\n",
        "#if y else van en minúscula\n",
        "respuesta=input(\"Deseas aprender a programar?\").capitalize()\n",
        "if respuesta== \"Si\":\n",
        "#Estamos dentro del si\n",
        "print(\"Empieza a hacer ejercicios\")\n",
        "else:\n",
        "#Estamos dentro del sino\n",
        "print(\"Reconsidéralo\")\n"
      ],
      "metadata": {
        "id": "zJnBkfs5E-Wy"
      },
      "execution_count": null,
      "outputs": []
    },
    {
      "cell_type": "markdown",
      "source": [
        "##Ejemplos\n",
        "\n",
        "\n"
      ],
      "metadata": {
        "id": "OPWKd8MtGjGx"
      }
    },
    {
      "cell_type": "code",
      "source": [
        "#Ejercicio 3: Definir si un número es mayor que n y menos o igual m\n",
        "n=int(input(\"Ingrese un número\"))\n",
        "m=int(input(\"Ingrese un número\"))\n",
        "x=int(input(\"Ingrese un número\"))\n"
      ],
      "metadata": {
        "colab": {
          "base_uri": "https://localhost:8080/"
        },
        "id": "JE5zrewgIlfP",
        "outputId": "d31197b9-98b4-444d-e9b5-db90e5604d1e"
      },
      "execution_count": null,
      "outputs": [
        {
          "name": "stdout",
          "output_type": "stream",
          "text": [
            "Ingrese un número3\n",
            "Ingrese un número4\n",
            "Ingrese un número10\n"
          ]
        }
      ]
    },
    {
      "cell_type": "code",
      "source": [
        "if n <x <= m:\n",
        " print(f\"El número {x} es mayor que {n} y menor que {m}\")\n",
        "else:\n",
        " print(f\"El número {x} no es mayor que {n} y menor que {m}\")"
      ],
      "metadata": {
        "colab": {
          "base_uri": "https://localhost:8080/"
        },
        "id": "7TGnAY5OJKyG",
        "outputId": "15a4e4ec-b1d6-4465-fbaa-b66fbf642ee3"
      },
      "execution_count": null,
      "outputs": [
        {
          "output_type": "stream",
          "name": "stdout",
          "text": [
            "El número 6 es mayor que 5 y menor que 8\n"
          ]
        }
      ]
    },
    {
      "cell_type": "code",
      "source": [
        "if n<x:\n",
        " print(f\"El número {x} es mayor que {n}\")\n",
        " if x<=m:\n",
        "    print(f\"El número {x} es menor o igual que {m}\")\n",
        " else:\n",
        "    print(f\"El número {x} no es menor o igual que {m}\")\n",
        "else:\n",
        " print(f\"El número {x} no es mayor que {n} \")\n",
        " if x<= m:\n",
        "    print(f\"El número {x} es menor o igual que {m}\")\n",
        " else:\n",
        "    print(f\"El número {x} no es menor o igual que {m}\")\n"
      ],
      "metadata": {
        "colab": {
          "base_uri": "https://localhost:8080/"
        },
        "id": "rxluTjrQJk6f",
        "outputId": "a90701ae-0564-41cd-ccbd-1a0d3676c965"
      },
      "execution_count": null,
      "outputs": [
        {
          "output_type": "stream",
          "name": "stdout",
          "text": [
            "El número 10 es mayor que 3\n",
            "El número 10 no es menor o igual que 4\n"
          ]
        }
      ]
    },
    {
      "cell_type": "code",
      "source": [
        "if x>n and x <= m:\n",
        " print(f\"El número {x} es mayor que {n} y menor o igual que {m}\")\n",
        "elif x<n and x <= m:\n",
        "   print(f\"El número {x} no es mayor que {n}, pero es menor o igual que {m}\")\n",
        "elif x>n and x > m:\n",
        "   print(f\"El número {x} es mayor que {n}, pero no es menor o igual que {m}\")"
      ],
      "metadata": {
        "colab": {
          "base_uri": "https://localhost:8080/"
        },
        "id": "BZ5xkjAEM9-L",
        "outputId": "0f7722b4-b5c1-45bf-cd52-f6274899b6ef"
      },
      "execution_count": null,
      "outputs": [
        {
          "output_type": "stream",
          "name": "stdout",
          "text": [
            "El número 10 es mayor que 3, pero no es menor o igual que 4\n"
          ]
        }
      ]
    },
    {
      "cell_type": "code",
      "source": [
        "#4. Definir si una letra es m o no.\n",
        "letra=input(\"Ingrese una letra \").lower()\n",
        "if letra == \"m\":\n",
        "  print(\"Ingresaste una m\")\n",
        "else:\n",
        " print(\"No ingresaste una m\")\n",
        "b=\"Ingresar una m\" if letra\n"
      ],
      "metadata": {
        "colab": {
          "base_uri": "https://localhost:8080/"
        },
        "id": "9Igc17YPO2qh",
        "outputId": "8bfb35ce-d1ce-41d8-b509-775e69fd19b6"
      },
      "execution_count": null,
      "outputs": [
        {
          "output_type": "stream",
          "name": "stdout",
          "text": [
            "Ingrese una letra q\n",
            "No ingresaste una m\n"
          ]
        }
      ]
    },
    {
      "cell_type": "code",
      "source": [
        "#6.Restar en 1 una variable si es menor que 5\n",
        "numero=int(input(\"Ingrese un número: \"))\n",
        "if numero<5: print(f\"El nuevo número es {numero -1} \")\n",
        "else: print(\"Como el número no es menor que 5, se mantiene.\")\n"
      ],
      "metadata": {
        "colab": {
          "base_uri": "https://localhost:8080/"
        },
        "id": "xPqZd7zUP0K4",
        "outputId": "bb07f089-bd5b-49af-c320-8be07445ec88"
      },
      "execution_count": null,
      "outputs": [
        {
          "output_type": "stream",
          "name": "stdout",
          "text": [
            "Ingrese un número: 10\n",
            "Como el número no es menor que 5, se mantiene.\n"
          ]
        }
      ]
    },
    {
      "cell_type": "code",
      "source": [
        "#1.Dividir dos números siempre y cuando el denominador no sea 0\"\n",
        "x=int(input(\"Ingrese un número \"))\n",
        "y=int(input(\"Ingrese otro número \"))\n",
        "if y!=0:\n",
        " print(f\"{x} / {y} = {x/y}\")\n",
        "else:\n",
        "   print(\"No se puede divir por 0\")\n",
        "\n"
      ],
      "metadata": {
        "colab": {
          "base_uri": "https://localhost:8080/"
        },
        "id": "Ntr1ftfoSgZu",
        "outputId": "86e1520c-c98c-4477-ce58-efd55c9832a0"
      },
      "execution_count": null,
      "outputs": [
        {
          "output_type": "stream",
          "name": "stdout",
          "text": [
            "Ingrese un número 0\n",
            "Ingrese otro número 0\n",
            "No se puede divir por 0\n"
          ]
        }
      ]
    },
    {
      "cell_type": "code",
      "source": [
        "#2. Definir si un número es mayor que 5 y menor que 15\n",
        "x=int(input(\"Ingrese un número \"))\n",
        "if 5<x<15:\n",
        "   print(f\"{x} es mayor que 5 y menor que 15 \")\n",
        "else:\n",
        " print(f\"{x} no es mayor que 5 y menor que 15 \")\n"
      ],
      "metadata": {
        "colab": {
          "base_uri": "https://localhost:8080/"
        },
        "id": "EPkHiVJnU9iS",
        "outputId": "182cdd93-8813-4efe-ff10-5d9936029808"
      },
      "execution_count": null,
      "outputs": [
        {
          "output_type": "stream",
          "name": "stdout",
          "text": [
            "Ingrese un número 12\n",
            "12 es mayor que 5 y menor que 15 \n"
          ]
        }
      ]
    },
    {
      "cell_type": "code",
      "source": [
        "#5. Verificar si un número es par o impar\n",
        "n = int(input(\"ingrese un número entero:\"))\n",
        "if n % 2 == 0:\n",
        "  print(f\"El número es par\")\n",
        "else:\n",
        " print(f\"El número es impar \")\n",
        "\n"
      ],
      "metadata": {
        "colab": {
          "base_uri": "https://localhost:8080/"
        },
        "id": "h7DhG_3PVDQi",
        "outputId": "a5965d34-8b2f-463e-ca02-79c46ef03ff7"
      },
      "execution_count": null,
      "outputs": [
        {
          "output_type": "stream",
          "name": "stdout",
          "text": [
            "ingrese un número entero:10\n",
            "El número es par\n"
          ]
        }
      ]
    },
    {
      "cell_type": "markdown",
      "source": [
        "#Operador teniario\n",
        "1. Acción si se cumple la condición\n",
        "2. La condición\n",
        "3. else\n",
        "4. Acción si no se cumple la condición\n",
        "1-2-3-4\n",
        "\n"
      ],
      "metadata": {
        "id": "U_SmAjXtWvY5"
      }
    }
  ]
}