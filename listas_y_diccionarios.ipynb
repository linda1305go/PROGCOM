{
  "nbformat": 4,
  "nbformat_minor": 0,
  "metadata": {
    "colab": {
      "provenance": [],
      "authorship_tag": "ABX9TyP+l8fAIhGqQCmXqv1o7Gej",
      "include_colab_link": true
    },
    "kernelspec": {
      "name": "python3",
      "display_name": "Python 3"
    },
    "language_info": {
      "name": "python"
    }
  },
  "cells": [
    {
      "cell_type": "markdown",
      "metadata": {
        "id": "view-in-github",
        "colab_type": "text"
      },
      "source": [
        "<a href=\"https://colab.research.google.com/github/linda1305go/PROGCOM/blob/main/listas_y_diccionarios.ipynb\" target=\"_parent\"><img src=\"https://colab.research.google.com/assets/colab-badge.svg\" alt=\"Open In Colab\"/></a>"
      ]
    },
    {
      "cell_type": "markdown",
      "source": [
        "#Listas\n",
        "\n",
        "Una lista en programación es una estructura de datos que almacena una secuencia ordenada de elementos, que pueden ser de cualquier tipo (números, cadenas, objetos, etc.). Los elementos están indexados y pueden ser modificados, añadidos o eliminados. En muchos lenguajes, las listas permiten elementos duplicados y varían en longitud."
      ],
      "metadata": {
        "id": "dDuhYiblhwSl"
      }
    },
    {
      "cell_type": "code",
      "source": [
        "# Definición de las listas\n",
        "lista1 = [13, 5, 27, 4, 11, 80]\n",
        "lista2 = [\"Linda\", \"Camila\", \"Garnica\", \"Olarte\", \"Linda\", \"Nersy\", \"Olarte\", \"Torres\"]\n",
        "\n",
        "# 1. append(item): Agrega un elemento al final de la lista\n",
        "lista1.append(99)\n",
        "print(lista1)\n",
        "\n",
        "lista2.append(\"Gomez\")\n",
        "print(lista2)"
      ],
      "metadata": {
        "colab": {
          "base_uri": "https://localhost:8080/"
        },
        "id": "MTn17ftzogZy",
        "outputId": "13a5dc73-3346-4691-f418-c58847596780"
      },
      "execution_count": null,
      "outputs": [
        {
          "output_type": "stream",
          "name": "stdout",
          "text": [
            "[13, 5, 27, 4, 11, 80, 99]\n",
            "['Linda', 'Camila', 'Garnica', 'Olarte', 'Linda', 'Nersy', 'Olarte', 'Torres', 'Gomez']\n"
          ]
        }
      ]
    },
    {
      "cell_type": "code",
      "source": [
        "# 2. insert(index, item): Inserta un elemento en una posición específica\n",
        "lista1.insert(2, 22)\n",
        "print(lista1)\n",
        "\n",
        "\n",
        "lista2.insert(1, \"Maria\")\n",
        "print(lista2)\n"
      ],
      "metadata": {
        "colab": {
          "base_uri": "https://localhost:8080/"
        },
        "id": "PiCa-6Haoklc",
        "outputId": "ad1d1b5c-1b15-4c31-f479-8cf24e1342e6"
      },
      "execution_count": null,
      "outputs": [
        {
          "output_type": "stream",
          "name": "stdout",
          "text": [
            "[13, 5, 22, 27, 4, 11, 80, 99]\n",
            "['Linda', 'Maria', 'Camila', 'Garnica', 'Olarte', 'Linda', 'Nersy', 'Olarte', 'Torres', 'Gomez']\n"
          ]
        }
      ]
    },
    {
      "cell_type": "code",
      "source": [
        "# 3. remove(item): Elimina la primera aparición del elemento\n",
        "lista1.remove(22)\n",
        "print(lista1)\n",
        "\n",
        "\n",
        "lista2.remove(\"Linda\")\n",
        "print(lista2)\n",
        "\n"
      ],
      "metadata": {
        "colab": {
          "base_uri": "https://localhost:8080/"
        },
        "id": "Qj_QGfNCozqB",
        "outputId": "9797fa88-c680-4bcb-d13a-7befb42bb6d6"
      },
      "execution_count": null,
      "outputs": [
        {
          "output_type": "stream",
          "name": "stdout",
          "text": [
            "[13, 5, 27, 4, 11, 80, 99]\n",
            "['Maria', 'Camila', 'Garnica', 'Olarte', 'Linda', 'Nersy', 'Olarte', 'Torres', 'Gomez']\n"
          ]
        }
      ]
    },
    {
      "cell_type": "code",
      "source": [
        "# 4. pop([index]): Elimina y devuelve el elemento en el índice especificado\n",
        "lista1.pop()\n",
        "print(lista1)\n",
        "\n",
        "\n",
        "lista2.pop(2)\n",
        "print(lista2)\n",
        "\n"
      ],
      "metadata": {
        "colab": {
          "base_uri": "https://localhost:8080/"
        },
        "id": "21RId3cypHqf",
        "outputId": "28b4c1f5-6b14-44aa-950b-d1ee488d30a0"
      },
      "execution_count": null,
      "outputs": [
        {
          "output_type": "stream",
          "name": "stdout",
          "text": [
            "[13, 5, 27, 4, 11, 80]\n",
            "['Maria', 'Camila', 'Olarte', 'Linda', 'Nersy', 'Olarte', 'Torres', 'Gomez']\n"
          ]
        }
      ]
    },
    {
      "cell_type": "code",
      "source": [
        "# 5. clear(): Elimina todos los elementos de la lista\n",
        "lista1.clear()\n",
        "print(lista1)\n",
        "\n",
        "\n",
        "lista2.clear()\n",
        "print(lista2)\n",
        "\n"
      ],
      "metadata": {
        "colab": {
          "base_uri": "https://localhost:8080/"
        },
        "id": "THxuurNnpPzd",
        "outputId": "ee47b74d-1778-46c4-ea86-634cc2c71391"
      },
      "execution_count": null,
      "outputs": [
        {
          "output_type": "stream",
          "name": "stdout",
          "text": [
            "[]\n",
            "[]\n"
          ]
        }
      ]
    },
    {
      "cell_type": "code",
      "source": [
        "# 6. index(item): Devuelve el índice de la primera aparición del elemento\n",
        "indice_80 = lista1.index(80)\n",
        "print(indice_80)\n",
        "\n",
        "\n",
        "indice_olarte = lista2.index(\"Olarte\")\n",
        "print(indice_olarte)\n"
      ],
      "metadata": {
        "colab": {
          "base_uri": "https://localhost:8080/",
          "height": 211
        },
        "id": "uXnupTATpe9q",
        "outputId": "1ce58646-21e4-4524-e040-3593e07e0907"
      },
      "execution_count": null,
      "outputs": [
        {
          "output_type": "error",
          "ename": "ValueError",
          "evalue": "80 is not in list",
          "traceback": [
            "\u001b[0;31m---------------------------------------------------------------------------\u001b[0m",
            "\u001b[0;31mValueError\u001b[0m                                Traceback (most recent call last)",
            "\u001b[0;32m<ipython-input-12-52eb45fb728e>\u001b[0m in \u001b[0;36m<cell line: 2>\u001b[0;34m()\u001b[0m\n\u001b[1;32m      1\u001b[0m \u001b[0;31m# 6. index(item): Devuelve el índice de la primera aparición del elemento\u001b[0m\u001b[0;34m\u001b[0m\u001b[0;34m\u001b[0m\u001b[0m\n\u001b[0;32m----> 2\u001b[0;31m \u001b[0mindice_80\u001b[0m \u001b[0;34m=\u001b[0m \u001b[0mlista1\u001b[0m\u001b[0;34m.\u001b[0m\u001b[0mindex\u001b[0m\u001b[0;34m(\u001b[0m\u001b[0;36m80\u001b[0m\u001b[0;34m)\u001b[0m\u001b[0;34m\u001b[0m\u001b[0;34m\u001b[0m\u001b[0m\n\u001b[0m\u001b[1;32m      3\u001b[0m \u001b[0mprint\u001b[0m\u001b[0;34m(\u001b[0m\u001b[0mindice_80\u001b[0m\u001b[0;34m)\u001b[0m\u001b[0;34m\u001b[0m\u001b[0;34m\u001b[0m\u001b[0m\n\u001b[1;32m      4\u001b[0m \u001b[0;34m\u001b[0m\u001b[0m\n\u001b[1;32m      5\u001b[0m \u001b[0;34m\u001b[0m\u001b[0m\n",
            "\u001b[0;31mValueError\u001b[0m: 80 is not in list"
          ]
        }
      ]
    },
    {
      "cell_type": "code",
      "source": [
        "# 7. count(item): Devuelve el número de veces que el elemento aparece en la lista\n",
        "cuenta_5 = lista1.count(5)\n",
        "print(cuenta_5)\n",
        "\n",
        "cuenta_olarte = lista2.count(\"Olarte\")\n",
        "print(cuenta_olarte)\n"
      ],
      "metadata": {
        "colab": {
          "base_uri": "https://localhost:8080/"
        },
        "id": "1NMOMt0Yproe",
        "outputId": "ef850782-ccae-43f6-9943-0866ed9b6891"
      },
      "execution_count": null,
      "outputs": [
        {
          "output_type": "stream",
          "name": "stdout",
          "text": [
            "0\n",
            "0\n"
          ]
        }
      ]
    },
    {
      "cell_type": "code",
      "source": [
        "# 8. sort([reverse=False]): Ordena los elementos de la lista en orden ascendente\n",
        "lista1.sort()\n",
        "print(lista1)\n",
        "\n",
        "\n",
        "\n",
        "lista2.sort()\n",
        "print(lista2)\n"
      ],
      "metadata": {
        "colab": {
          "base_uri": "https://localhost:8080/"
        },
        "id": "7i25zWdipzLO",
        "outputId": "a98eb57b-b634-4664-9a72-4dd6cef489de"
      },
      "execution_count": null,
      "outputs": [
        {
          "output_type": "stream",
          "name": "stdout",
          "text": [
            "[]\n",
            "[]\n"
          ]
        }
      ]
    },
    {
      "cell_type": "code",
      "source": [
        "# 9. reverse(): Invierte el orden de los elementos de la lista\n",
        "lista1.reverse()\n",
        "print(lista1)\n",
        "# Resultado: [80, 27, 13, 11, 5, 4]\n",
        "\n",
        "lista2.reverse()\n",
        "print(lista2)\n",
        "# Resultado: ['Torres', 'Olarte', 'Olarte', 'Nersy', 'Maria', 'Linda', 'Gomez', 'Camila']"
      ],
      "metadata": {
        "colab": {
          "base_uri": "https://localhost:8080/"
        },
        "id": "2GWQAWw1qJjd",
        "outputId": "8ebc8a72-cf42-40fd-8e17-45793132d7b1"
      },
      "execution_count": null,
      "outputs": [
        {
          "output_type": "stream",
          "name": "stdout",
          "text": [
            "[]\n",
            "[]\n"
          ]
        }
      ]
    },
    {
      "cell_type": "code",
      "source": [
        "# 10. extend(iterable): Añade los elementos de otro iterable al final de la lista\n",
        "lista1.extend([100, 200])\n",
        "print(lista1)\n",
        "# Resultado: [80, 27, 13, 11, 5, 4, 100, 200]\n",
        "\n",
        "lista2.extend([\"Perez\", \"Ramirez\"])\n",
        "print(lista2)\n",
        "# Resultado: ['Torres', 'Olarte', 'Olarte', 'Nersy', 'Maria', 'Linda', 'Gomez', 'Camila', 'Perez', 'Ramirez']"
      ],
      "metadata": {
        "colab": {
          "base_uri": "https://localhost:8080/"
        },
        "id": "Re_SzlIfqTqF",
        "outputId": "081e96e8-0c24-43ff-90c3-5333acbbac7e"
      },
      "execution_count": null,
      "outputs": [
        {
          "output_type": "stream",
          "name": "stdout",
          "text": [
            "[100, 200]\n",
            "['Perez', 'Ramirez']\n"
          ]
        }
      ]
    },
    {
      "cell_type": "code",
      "source": [
        "# 11. copy(): Devuelve una copia superficial de la lista\n",
        "copia_lista1 = lista1.copy()\n",
        "print(copia_lista1)\n",
        "# Resultado: [80, 27, 13, 11, 5, 4, 100, 200]\n",
        "\n",
        "copia_lista2 = lista2.copy()\n",
        "print(copia_lista2)\n",
        "# Resultado: ['Torres', 'Olarte', 'Olarte', 'Nersy', 'Maria', 'Linda', 'Gomez', 'Camila', 'Perez', 'Ramirez']"
      ],
      "metadata": {
        "id": "BJiD8-vBqVSa"
      },
      "execution_count": null,
      "outputs": []
    },
    {
      "cell_type": "markdown",
      "source": [
        "#Diccionarios"
      ],
      "metadata": {
        "id": "CcSHS5iUqrCf"
      }
    },
    {
      "cell_type": "code",
      "source": [
        "# Crear un diccionario usando lista1 como claves y lista2 como valores\n",
        "diccionario = dict(zip(lista1, lista2))\n",
        "print(diccionario)\n",
        "# Resultado: {80: 'Torres', 27: 'Olarte', 13: 'Maria', 11: 'Linda', 5: 'Nersy', 4: 'Camila'}\n",
        "\n",
        "# 1. items(): Devuelve una vista de los pares clave-valor como tuplas\n",
        "items = diccionario.items()\n",
        "print(items)\n",
        "\n"
      ],
      "metadata": {
        "colab": {
          "base_uri": "https://localhost:8080/"
        },
        "id": "tLRGs6zkqt40",
        "outputId": "4a9c223c-c301-40b1-c108-80b9d8d4f491"
      },
      "execution_count": null,
      "outputs": [
        {
          "output_type": "stream",
          "name": "stdout",
          "text": [
            "{100: 'Perez', 200: 'Ramirez'}\n",
            "dict_items([(100, 'Perez'), (200, 'Ramirez')])\n"
          ]
        }
      ]
    },
    {
      "cell_type": "code",
      "source": [
        "# 2. keys(): Devuelve una vista de todas las claves del diccionario\n",
        "claves = diccionario.keys()\n",
        "print(claves)\n"
      ],
      "metadata": {
        "colab": {
          "base_uri": "https://localhost:8080/"
        },
        "id": "Mj20Mk1Gq-Ti",
        "outputId": "082ce504-c90d-426d-b739-3c852999d9e0"
      },
      "execution_count": null,
      "outputs": [
        {
          "output_type": "stream",
          "name": "stdout",
          "text": [
            "dict_keys([100, 200])\n"
          ]
        }
      ]
    },
    {
      "cell_type": "code",
      "source": [
        "# 3. values(): Devuelve una vista de todos los valores del diccionario\n",
        "valores = diccionario.values()\n",
        "print(valores)\n",
        "\n"
      ],
      "metadata": {
        "colab": {
          "base_uri": "https://localhost:8080/"
        },
        "id": "KDS5EWslrHwS",
        "outputId": "d063d552-9249-45b7-bb5b-a1b385955c17"
      },
      "execution_count": null,
      "outputs": [
        {
          "output_type": "stream",
          "name": "stdout",
          "text": [
            "dict_values(['Perez', 'Ramirez'])\n"
          ]
        }
      ]
    },
    {
      "cell_type": "code",
      "source": [
        "# 4. get(clave, [valor_por_defecto]): Devuelve el valor asociado a la clave. Si no existe, devuelve un valor por defecto.\n",
        "valor = diccionario.get(27)\n",
        "print(valor)"
      ],
      "metadata": {
        "colab": {
          "base_uri": "https://localhost:8080/"
        },
        "id": "zaTIAhxFrOjl",
        "outputId": "eabb0ce1-1771-4cb6-d58b-b999588811a8"
      },
      "execution_count": null,
      "outputs": [
        {
          "output_type": "stream",
          "name": "stdout",
          "text": [
            "None\n"
          ]
        }
      ]
    },
    {
      "cell_type": "code",
      "source": [
        "valor_inexistente = diccionario.get(100, \"No existe\")\n",
        "print(valor_inexistente)"
      ],
      "metadata": {
        "colab": {
          "base_uri": "https://localhost:8080/"
        },
        "id": "O6WzN15WrU1K",
        "outputId": "be36b115-26d7-406c-d1d5-6e1f31451bb8"
      },
      "execution_count": null,
      "outputs": [
        {
          "output_type": "stream",
          "name": "stdout",
          "text": [
            "Perez\n"
          ]
        }
      ]
    },
    {
      "cell_type": "code",
      "source": [
        "# 5. update(otro_diccionario): Actualiza el diccionario con los pares clave-valor de otro diccionario\n",
        "diccionario.update({80: \"Gomez\", 100: \"Perez\"})\n",
        "print(diccionario)"
      ],
      "metadata": {
        "colab": {
          "base_uri": "https://localhost:8080/"
        },
        "id": "LqfTCTLFrZM0",
        "outputId": "02bcfbdb-01ec-48c2-c094-f7d119767226"
      },
      "execution_count": null,
      "outputs": [
        {
          "output_type": "stream",
          "name": "stdout",
          "text": [
            "{100: 'Perez', 200: 'Ramirez', 80: 'Gomez'}\n"
          ]
        }
      ]
    },
    {
      "cell_type": "code",
      "source": [
        "# 6. pop(clave, [valor_por_defecto]): Elimina y devuelve el valor asociado a la clave. Si no existe, devuelve un valor por defecto.\n",
        "valor_eliminado = diccionario.pop(13)\n",
        "print(valor_eliminado)\n",
        "print(diccionario)"
      ],
      "metadata": {
        "colab": {
          "base_uri": "https://localhost:8080/",
          "height": 193
        },
        "id": "UCqxFMqmrepC",
        "outputId": "e7ef12c1-ba01-4829-89e0-3e3ca09c6cf9"
      },
      "execution_count": null,
      "outputs": [
        {
          "output_type": "error",
          "ename": "KeyError",
          "evalue": "13",
          "traceback": [
            "\u001b[0;31m---------------------------------------------------------------------------\u001b[0m",
            "\u001b[0;31mKeyError\u001b[0m                                  Traceback (most recent call last)",
            "\u001b[0;32m<ipython-input-26-e9efe8da7580>\u001b[0m in \u001b[0;36m<cell line: 2>\u001b[0;34m()\u001b[0m\n\u001b[1;32m      1\u001b[0m \u001b[0;31m# 6. pop(clave, [valor_por_defecto]): Elimina y devuelve el valor asociado a la clave. Si no existe, devuelve un valor por defecto.\u001b[0m\u001b[0;34m\u001b[0m\u001b[0;34m\u001b[0m\u001b[0m\n\u001b[0;32m----> 2\u001b[0;31m \u001b[0mvalor_eliminado\u001b[0m \u001b[0;34m=\u001b[0m \u001b[0mdiccionario\u001b[0m\u001b[0;34m.\u001b[0m\u001b[0mpop\u001b[0m\u001b[0;34m(\u001b[0m\u001b[0;36m13\u001b[0m\u001b[0;34m)\u001b[0m\u001b[0;34m\u001b[0m\u001b[0;34m\u001b[0m\u001b[0m\n\u001b[0m\u001b[1;32m      3\u001b[0m \u001b[0mprint\u001b[0m\u001b[0;34m(\u001b[0m\u001b[0mvalor_eliminado\u001b[0m\u001b[0;34m)\u001b[0m\u001b[0;34m\u001b[0m\u001b[0;34m\u001b[0m\u001b[0m\n\u001b[1;32m      4\u001b[0m \u001b[0mprint\u001b[0m\u001b[0;34m(\u001b[0m\u001b[0mdiccionario\u001b[0m\u001b[0;34m)\u001b[0m\u001b[0;34m\u001b[0m\u001b[0;34m\u001b[0m\u001b[0m\n",
            "\u001b[0;31mKeyError\u001b[0m: 13"
          ]
        }
      ]
    },
    {
      "cell_type": "code",
      "source": [
        "# 7. popitem(): Elimina y devuelve el último par clave-valor insertado\n",
        "ultimo_elemento = diccionario.popitem()\n",
        "print(ultimo_elemento)\n",
        "\n",
        "\n",
        "print(diccionario)"
      ],
      "metadata": {
        "colab": {
          "base_uri": "https://localhost:8080/"
        },
        "id": "gwLFe31Mrqot",
        "outputId": "122a6087-bfe3-4d8e-f05b-54d04244912f"
      },
      "execution_count": null,
      "outputs": [
        {
          "output_type": "stream",
          "name": "stdout",
          "text": [
            "(80, 'Gomez')\n",
            "{100: 'Perez', 200: 'Ramirez'}\n"
          ]
        }
      ]
    },
    {
      "cell_type": "code",
      "source": [
        "# 8. clear(): Elimina todos los elementos del diccionario\n",
        "diccionario.clear()\n",
        "print(diccionario)"
      ],
      "metadata": {
        "colab": {
          "base_uri": "https://localhost:8080/"
        },
        "id": "Gutp4j1vruUp",
        "outputId": "51e212fe-4081-4cd6-91b4-c5726e3beb73"
      },
      "execution_count": null,
      "outputs": [
        {
          "output_type": "stream",
          "name": "stdout",
          "text": [
            "{}\n"
          ]
        }
      ]
    },
    {
      "cell_type": "code",
      "source": [
        "# 9. fromkeys(claves, [valor]): Crea un nuevo diccionario a partir de un iterable de claves y un valor opcional.\n",
        "nuevas_claves = [1, 2, 3]\n",
        "nuevo_diccionario = dict.fromkeys(nuevas_claves, \"Valor por defecto\")\n",
        "print(nuevo_diccionario)"
      ],
      "metadata": {
        "colab": {
          "base_uri": "https://localhost:8080/"
        },
        "id": "wYnsMxiPrwRk",
        "outputId": "ec0a9160-3353-4cc1-a1a0-b46c82d3685a"
      },
      "execution_count": null,
      "outputs": [
        {
          "output_type": "stream",
          "name": "stdout",
          "text": [
            "{1: 'Valor por defecto', 2: 'Valor por defecto', 3: 'Valor por defecto'}\n"
          ]
        }
      ]
    },
    {
      "cell_type": "code",
      "source": [
        "# 10. copy(): Devuelve una copia superficial del diccionario\n",
        "diccionario_original = {1: 'uno', 2: 'dos'}\n",
        "copia_diccionario = diccionario_original.copy()\n",
        "print(copia_diccionario)"
      ],
      "metadata": {
        "colab": {
          "base_uri": "https://localhost:8080/"
        },
        "id": "thoPGVgJr2CP",
        "outputId": "a2f475d5-6638-49a5-aba3-fc1320bd89ae"
      },
      "execution_count": null,
      "outputs": [
        {
          "output_type": "stream",
          "name": "stdout",
          "text": [
            "{1: 'uno', 2: 'dos'}\n"
          ]
        }
      ]
    },
    {
      "cell_type": "markdown",
      "source": [
        "#EJERCICIOS DE CLASE"
      ],
      "metadata": {
        "id": "We_K_hhEsDDj"
      }
    },
    {
      "cell_type": "code",
      "source": [
        "list1 = [100, 200, 300, 400, 500]\n",
        "list1.reverse()\n",
        "print(list1)\n"
      ],
      "metadata": {
        "colab": {
          "base_uri": "https://localhost:8080/"
        },
        "id": "7kzZXQNgsGbP",
        "outputId": "7f31c142-ad39-4474-898a-125563c46770"
      },
      "execution_count": null,
      "outputs": [
        {
          "output_type": "stream",
          "name": "stdout",
          "text": [
            "[500, 400, 300, 200, 100]\n"
          ]
        }
      ]
    },
    {
      "cell_type": "code",
      "source": [
        "lista1 = [\"Mi\", \"nom\", \"es\", \"Lin\"]\n",
        "lista2 = [\"\", \"bre\", \"\", \"da\"]\n",
        "resultado = [lista1[i] + lista2[i] for i in range(len(lista1))]\n",
        "print(resultado)\n"
      ],
      "metadata": {
        "colab": {
          "base_uri": "https://localhost:8080/"
        },
        "id": "5_CDZb7ns4vl",
        "outputId": "3109cfad-99cf-4689-dfc0-e6ad42ea4ab2"
      },
      "execution_count": null,
      "outputs": [
        {
          "output_type": "stream",
          "name": "stdout",
          "text": [
            "['Mi', 'nombre', 'es', 'Linda']\n"
          ]
        }
      ]
    },
    {
      "cell_type": "code",
      "source": [
        "list3 = [6, 7, 4, 9, 16, 26, 36, 49]\n",
        "cuadrados = [x**2 for x in list3]\n",
        "print(cuadrados)\n"
      ],
      "metadata": {
        "colab": {
          "base_uri": "https://localhost:8080/"
        },
        "id": "WWkd_LS5tPmj",
        "outputId": "37e95ed9-05cb-43e1-9a2b-c602f41d9236"
      },
      "execution_count": null,
      "outputs": [
        {
          "output_type": "stream",
          "name": "stdout",
          "text": [
            "[36, 49, 16, 81, 256, 676, 1296, 2401]\n"
          ]
        }
      ]
    },
    {
      "cell_type": "code",
      "source": [
        "lista1 = [\"Hola\", \"toma\"]\n",
        "lista2 = [\"Querido\", \"Señor\"]\n",
        "resultado = [x + \" \" + y for x in lista1 for y in lista2]\n",
        "print(resultado)"
      ],
      "metadata": {
        "colab": {
          "base_uri": "https://localhost:8080/"
        },
        "id": "PRxHiQIptXuJ",
        "outputId": "09dfc795-df14-46f5-9951-632e2cb6b49b"
      },
      "execution_count": null,
      "outputs": [
        {
          "output_type": "stream",
          "name": "stdout",
          "text": [
            "['Hola Querido', 'Hola Señor', 'toma Querido', 'toma Señor']\n"
          ]
        }
      ]
    },
    {
      "cell_type": "code",
      "source": [
        "list1 = [10, 20, 30, 40]\n",
        "list2 = [100, 200, 300, 400]\n",
        "for i in range(len(list1)):\n",
        "    print(list1[i], list2[-(i+1)])"
      ],
      "metadata": {
        "colab": {
          "base_uri": "https://localhost:8080/"
        },
        "id": "GMuLllkitev7",
        "outputId": "f28aa583-a20b-43dc-905a-d7cfab7db2f5"
      },
      "execution_count": null,
      "outputs": [
        {
          "output_type": "stream",
          "name": "stdout",
          "text": [
            "10 400\n",
            "20 300\n",
            "30 200\n",
            "40 100\n"
          ]
        }
      ]
    },
    {
      "cell_type": "code",
      "source": [
        "list4 = [\"Mike\", '', \"Emma\", \"Kelly\", '', \"Brad\"]\n",
        "resultado = [x for x in list4 if x != '']\n",
        "print(resultado)"
      ],
      "metadata": {
        "colab": {
          "base_uri": "https://localhost:8080/"
        },
        "id": "RfiGYda9tmGW",
        "outputId": "017aa800-54d5-4730-8d2d-5fd44302d6a9"
      },
      "execution_count": null,
      "outputs": [
        {
          "output_type": "stream",
          "name": "stdout",
          "text": [
            "['Mike', 'Emma', 'Kelly', 'Brad']\n"
          ]
        }
      ]
    },
    {
      "cell_type": "code",
      "source": [
        "lista = [10, 20, [300, 400, [5000, 6000], 500], 30, 40]\n",
        "lista[2][2].append(7000)\n",
        "print(lista)"
      ],
      "metadata": {
        "id": "SUohRMudtrlg"
      },
      "execution_count": null,
      "outputs": []
    },
    {
      "cell_type": "code",
      "source": [
        "lista1 = [\"a\", \"b\", [\"c\", [\"d\", \"e\", [\"f\", \"g\"], \"k\"], \"l\"], \"m\", \"n\"]\n",
        "lista2 = [\"h\", \"i\", \"j\"]\n",
        "lista1[2][1][2].extend(lista2)\n",
        "print(lista1)"
      ],
      "metadata": {
        "colab": {
          "base_uri": "https://localhost:8080/"
        },
        "id": "43uUoU15t9gq",
        "outputId": "3ae9dcb2-62a6-4891-b853-4240bc4fc517"
      },
      "execution_count": null,
      "outputs": [
        {
          "output_type": "stream",
          "name": "stdout",
          "text": [
            "['a', 'b', ['c', ['d', 'e', ['f', 'g', 'h', 'i', 'j'], 'k'], 'l'], 'm', 'n']\n"
          ]
        }
      ]
    },
    {
      "cell_type": "code",
      "source": [
        "list5 = [5, 10, 15, 20, 25, 50, 20]\n",
        "indice = list5.index(20)\n",
        "list5[indice] = 200\n",
        "print(list5)"
      ],
      "metadata": {
        "id": "bD34JE_OuCkv"
      },
      "execution_count": null,
      "outputs": []
    },
    {
      "cell_type": "code",
      "source": [
        "lista = [5, 20, 15, 20, 25, 50, 20]\n",
        "sin_duplicados = []\n",
        "for item in lista:\n",
        "    if item not in sin_duplicados:\n",
        "        sin_duplicados.append(item)\n",
        "print(sin_duplicados)"
      ],
      "metadata": {
        "colab": {
          "base_uri": "https://localhost:8080/"
        },
        "id": "CHZPVFW5uFep",
        "outputId": "246abac1-42ff-4e0a-8c39-a5bc1934adb9"
      },
      "execution_count": null,
      "outputs": [
        {
          "output_type": "stream",
          "name": "stdout",
          "text": [
            "[5, 20, 15, 25, 50]\n"
          ]
        }
      ]
    },
    {
      "cell_type": "code",
      "source": [
        "lista = [5, 20, 15, 20, 25, 50, 20]\n",
        "contador = {}\n",
        "for item in lista:\n",
        "    if item in contador:\n",
        "        contador[item] += 1\n",
        "    else:\n",
        "        contador[item] = 1\n",
        "for key, value in contador.items():\n",
        "    print(f\"{key} = {value}\")"
      ],
      "metadata": {
        "colab": {
          "base_uri": "https://localhost:8080/"
        },
        "id": "pKIhdHvEu1ny",
        "outputId": "2e5d5eff-06eb-42d7-994d-4cae080a0395"
      },
      "execution_count": null,
      "outputs": [
        {
          "output_type": "stream",
          "name": "stdout",
          "text": [
            "5 = 1\n",
            "20 = 3\n",
            "15 = 1\n",
            "25 = 1\n",
            "50 = 1\n"
          ]
        }
      ]
    },
    {
      "cell_type": "code",
      "source": [
        "lista = [5, 20, 15, 20, 25, 50, 20]\n",
        "lista.sort()\n",
        "print(lista)"
      ],
      "metadata": {
        "colab": {
          "base_uri": "https://localhost:8080/"
        },
        "id": "hnVkwfwnu7lB",
        "outputId": "c20ec9cd-397e-4683-e54c-34440e29a7b5"
      },
      "execution_count": null,
      "outputs": [
        {
          "output_type": "stream",
          "name": "stdout",
          "text": [
            "[5, 15, 20, 20, 20, 25, 50]\n"
          ]
        }
      ]
    },
    {
      "cell_type": "code",
      "source": [
        "lista = [5, 20, 15, 20, 25, 50, 20]\n",
        "suma = sum(lista)\n",
        "multiplicacion = 1\n",
        "for num in lista:\n",
        "    multiplicacion *= num\n",
        "mayor = max(lista)\n",
        "menor = min(lista)\n",
        "print(f\"Suma: {suma}, Multiplicación: {multiplicacion}, Mayor: {mayor}, Menor: {menor}\")"
      ],
      "metadata": {
        "colab": {
          "base_uri": "https://localhost:8080/"
        },
        "id": "j9PwvQJ3vBTv",
        "outputId": "ca78d19b-cd84-4c59-defe-fc1a34cd829c"
      },
      "execution_count": null,
      "outputs": [
        {
          "output_type": "stream",
          "name": "stdout",
          "text": [
            "Suma: 155, Multiplicación: 750000000, Mayor: 50, Menor: 5\n"
          ]
        }
      ]
    },
    {
      "cell_type": "code",
      "source": [
        "lista1 = [5, 20, 15, 20]\n",
        "lista2 = [10, 5, 20, 15]\n",
        "diferencias = []\n",
        "for i in range(len(lista1)):\n",
        "    diferencias.append(lista1[i] - lista2[i])\n",
        "print(diferencias)"
      ],
      "metadata": {
        "colab": {
          "base_uri": "https://localhost:8080/"
        },
        "id": "kRQlcE3DvFlF",
        "outputId": "2295cc0e-006f-4eca-c7e1-1d45a79a06eb"
      },
      "execution_count": null,
      "outputs": [
        {
          "output_type": "stream",
          "name": "stdout",
          "text": [
            "[-5, 15, -5, 5]\n"
          ]
        }
      ]
    },
    {
      "cell_type": "code",
      "source": [
        "lista = [20, 15, 5, 25, 30, 10, 45, 35, 40, 50]\n",
        "lista.sort()\n",
        "segundo_menor = lista[1]\n",
        "tercer_menor = lista[2]\n",
        "print(f\"Segundo menor: {segundo_menor}, Tercer menor: {tercer_menor}\")"
      ],
      "metadata": {
        "colab": {
          "base_uri": "https://localhost:8080/"
        },
        "id": "mNceO5OLvKCc",
        "outputId": "ba223c75-90e8-4bf4-9495-b390ae065679"
      },
      "execution_count": null,
      "outputs": [
        {
          "output_type": "stream",
          "name": "stdout",
          "text": [
            "Segundo menor: 10, Tercer menor: 15\n"
          ]
        }
      ]
    },
    {
      "cell_type": "code",
      "source": [
        "lista = [5, 20, 15, 20, 25, 50, 20]\n",
        "lista1 = [x + lista[0] for x in lista]  # Suma con el primer elemento\n",
        "lista2 = [max(x - lista[0], 0) for x in lista]  # Resta con el primer elemento\n",
        "lista3 = [x * 2 for x in lista]  # Multiplicación\n",
        "lista4 = [x ** 2 for x in lista]  # Cuadrado\n",
        "print(f\"Lista1= {lista1}\")\n",
        "print(f\"Lista2= {lista2}\")\n",
        "print(f\"Lista3= {lista3}\")\n",
        "print(f\"Lista4= {lista4}\")"
      ],
      "metadata": {
        "colab": {
          "base_uri": "https://localhost:8080/"
        },
        "id": "Z1ZWTCmzvOrn",
        "outputId": "03b62675-f537-433c-ecc5-23348ae98303"
      },
      "execution_count": null,
      "outputs": [
        {
          "output_type": "stream",
          "name": "stdout",
          "text": [
            "Lista1= [10, 25, 20, 25, 30, 55, 25]\n",
            "Lista2= [0, 15, 10, 15, 20, 45, 15]\n",
            "Lista3= [10, 40, 30, 40, 50, 100, 40]\n",
            "Lista4= [25, 400, 225, 400, 625, 2500, 400]\n"
          ]
        }
      ]
    },
    {
      "cell_type": "code",
      "source": [
        "lista = ['a', 'b', 'c', 'd', 'e', 'f', 'g', 'h', 'i', 'j', 'k', 'l', 'm', 'n']\n",
        "n = 3\n",
        "resultado = [[] for _ in range(n)]\n",
        "for i in range(len(lista)):\n",
        "    resultado[i % n].append(lista[i])\n",
        "print(resultado)"
      ],
      "metadata": {
        "colab": {
          "base_uri": "https://localhost:8080/"
        },
        "id": "juPIwgaavX35",
        "outputId": "0205a2a2-43e0-4c3e-ac5a-38ddfcc999ce"
      },
      "execution_count": null,
      "outputs": [
        {
          "output_type": "stream",
          "name": "stdout",
          "text": [
            "[['a', 'd', 'g', 'j', 'm'], ['b', 'e', 'h', 'k', 'n'], ['c', 'f', 'i', 'l']]\n"
          ]
        }
      ]
    },
    {
      "cell_type": "code",
      "source": [
        "lista = [3, 4, 0, 0, 0, 6, 2, 0, 6, 7, 6, 0, 0, 0, 9, 10, 7, 4, 4, 5, 3, 0, 0, 2, 9, 7, 1]\n",
        "sin_ceros = [x for x in lista if x != 0]\n",
        "ceros = [0] * (len(lista) - len(sin_ceros))\n",
        "resultado = sin_ceros + ceros\n",
        "print(resultado)"
      ],
      "metadata": {
        "colab": {
          "base_uri": "https://localhost:8080/"
        },
        "id": "B1uxP3MmvfoL",
        "outputId": "8e46a0b0-e6d9-41ca-dc25-8b4531e58c78"
      },
      "execution_count": null,
      "outputs": [
        {
          "output_type": "stream",
          "name": "stdout",
          "text": [
            "[3, 4, 6, 2, 6, 7, 6, 9, 10, 7, 4, 4, 5, 3, 2, 9, 7, 1, 0, 0, 0, 0, 0, 0, 0, 0, 0]\n"
          ]
        }
      ]
    }
  ]
}