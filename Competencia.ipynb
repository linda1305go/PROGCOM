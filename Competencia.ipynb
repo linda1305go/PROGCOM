{
  "nbformat": 4,
  "nbformat_minor": 0,
  "metadata": {
    "colab": {
      "provenance": [],
      "authorship_tag": "ABX9TyMa1Vhi7k8Io5oHhxWiT/yy",
      "include_colab_link": true
    },
    "kernelspec": {
      "name": "python3",
      "display_name": "Python 3"
    },
    "language_info": {
      "name": "python"
    }
  },
  "cells": [
    {
      "cell_type": "markdown",
      "metadata": {
        "id": "view-in-github",
        "colab_type": "text"
      },
      "source": [
        "<a href=\"https://colab.research.google.com/github/linda1305go/PROGCOM/blob/main/Competencia.ipynb\" target=\"_parent\"><img src=\"https://colab.research.google.com/assets/colab-badge.svg\" alt=\"Open In Colab\"/></a>"
      ]
    },
    {
      "cell_type": "code",
      "source": [
        "class Desplazador:\n",
        "    # Define the vowels, accented vowels, and consonants sets\n",
        "    def __init__(self): # Corrected the constructor name to __init__\n",
        "        self.vocales = 'aeiou'\n",
        "        self.vocales_tildes = 'áéíóú'\n",
        "        self.consonantes = 'bcdfghjklmnñpqrstvwxyz'\n",
        "\n",
        "    # Método privado para desplazar una vocal\n",
        "    def __desplazar_vocal(self, letra, direccion):\n",
        "        index = self.vocales.index(letra)\n",
        "        if direccion == 'derecha':\n",
        "            return self.vocales[(index + 2) % len(self.vocales)]\n",
        "        else:\n",
        "            return self.vocales[(index - 2) % len(self.vocales)]\n",
        "\n",
        "    # Método privado para desplazar una consonante\n",
        "    def __desplazar_consonante(self, letra, direccion):\n",
        "        index = self.consonantes.index(letra)\n",
        "        if direccion == 'derecha':\n",
        "            return self.consonantes[(index + 1) % len(self.consonantes)]\n",
        "        else:\n",
        "            return self.consonantes[(index - 1) % len(self.consonantes)]\n",
        "\n",
        "    # Método privado para desplazar una vocal con tilde\n",
        "    def __desplazar_vocal_tilde(self, letra):\n",
        "        index = self.vocales_tildes.index(letra)\n",
        "        return self.vocales_tildes[(index + 3) % len(self.vocales_tildes)]\n",
        "\n",
        "    # Método público para procesar el desplazamiento de una letra\n",
        "    def desplazar_letra(self, letra, direccion):\n",
        "        if letra in self.vocales:\n",
        "            return self.__desplazar_vocal(letra, direccion)\n",
        "        elif letra in self.vocales_tildes:\n",
        "            return self.__desplazar_vocal_tilde(letra)\n",
        "        elif letra in self.consonantes:\n",
        "            return self.__desplazar_consonante(letra, direccion)\n",
        "        else:\n",
        "            return letra  # No modificar si no es vocal ni consonante\n",
        "\n",
        "# Función principal que recibe cualquier texto\n",
        "def procesar_texto(texto, direccion):\n",
        "    desplazador = Desplazador()\n",
        "    texto_modificado = \"\"\n",
        "\n",
        "    # Desplazar cada letra del texto\n",
        "    for letra in texto.lower():\n",
        "        if letra in desplazador.vocales + desplazador.vocales_tildes:\n",
        "            texto_modificado += desplazador.desplazar_letra(letra, direccion)\n",
        "        elif letra in desplazador.consonantes:\n",
        "            texto_modificado += desplazador.desplazar_letra(letra, direccion)\n",
        "        else:\n",
        "            texto_modificado += letra  # No modificar espacios ni otros caracteres\n",
        "\n",
        "    return texto_modificado\n",
        "\n",
        "# Ingresar un texto cualquiera\n",
        "texto_usuario = input(\"Introduce un texto: \")\n",
        "direccion_usuario = input(\"Elige la dirección (derecha/izquierda): \").lower()\n",
        "\n",
        "# Procesar el texto y mostrar el resultado\n",
        "resultado = procesar_texto(texto_usuario, direccion_usuario)\n",
        "print(\"Texto modificado:\", resultado)"
      ],
      "metadata": {
        "colab": {
          "base_uri": "https://localhost:8080/"
        },
        "id": "285Zv0XWUEhC",
        "outputId": "95ef472c-1e0e-46b7-bedb-526f5156e7ac"
      },
      "execution_count": 8,
      "outputs": [
        {
          "output_type": "stream",
          "name": "stdout",
          "text": [
            "Introduce un texto: hola\n",
            "Elige la dirección (derecha/izquierda): derecha\n",
            "Texto modificado: jami\n"
          ]
        }
      ]
    }
  ]
}