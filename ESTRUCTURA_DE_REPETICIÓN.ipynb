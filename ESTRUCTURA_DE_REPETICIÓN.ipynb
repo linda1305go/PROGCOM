{
  "nbformat": 4,
  "nbformat_minor": 0,
  "metadata": {
    "colab": {
      "provenance": [],
      "authorship_tag": "ABX9TyPQ/dWPEqnBtn3dEqAK5Wj+",
      "include_colab_link": true
    },
    "kernelspec": {
      "name": "python3",
      "display_name": "Python 3"
    },
    "language_info": {
      "name": "python"
    }
  },
  "cells": [
    {
      "cell_type": "markdown",
      "metadata": {
        "id": "view-in-github",
        "colab_type": "text"
      },
      "source": [
        "<a href=\"https://colab.research.google.com/github/linda1305go/PROGCOM/blob/main/ESTRUCTURA_DE_REPETICI%C3%93N.ipynb\" target=\"_parent\"><img src=\"https://colab.research.google.com/assets/colab-badge.svg\" alt=\"Open In Colab\"/></a>"
      ]
    },
    {
      "cell_type": "code",
      "execution_count": null,
      "metadata": {
        "id": "Rpc5z2zcN6_4"
      },
      "outputs": [],
      "source": []
    },
    {
      "cell_type": "markdown",
      "source": [
        "#ESTRUCTURAS DE REPETICIÓN\n",
        "## 1. ESTRUCTURA PARA\n",
        "### For in range (Número de veces)\n",
        "### For in range (Número inicial, numero fina+1, paso)\n",
        "### for in (Lista)\n",
        "##2. ESTRUCTURA MIENTRAS\n"
      ],
      "metadata": {
        "id": "ImPg_GQyO3a8"
      }
    },
    {
      "cell_type": "code",
      "source": [
        "for _ in range(3)\n",
        "   print (\"Colombia campeón\")\n",
        "\n"
      ],
      "metadata": {
        "id": "OlQ9lLw-PbtT"
      },
      "execution_count": null,
      "outputs": []
    },
    {
      "cell_type": "markdown",
      "source": [
        "## for in range (número inicial, número final + 1, pasos): Cuando se necesita repetir una cción un numero de veces entre el n úmero inicial y el número final,  El paso me representa la distancia entre la repetición"
      ],
      "metadata": {
        "id": "ykpVDixwPrqT"
      }
    },
    {
      "cell_type": "markdown",
      "source": [
        "\n",
        "\\"
      ],
      "metadata": {
        "id": "u84oxQlfQEUi"
      }
    },
    {
      "cell_type": "code",
      "source": [
        "#Imprimir la tabla de multiplicar del n\n",
        "n=int(input(\"Ingrese la tabla de multiplicar: \"))\n",
        "print(f\"Tabla de multiplicar del {n}\")\n",
        "for i in range(1,11):\n",
        "    print(f\"{n} x {i} = {n*i}\")"
      ],
      "metadata": {
        "colab": {
          "base_uri": "https://localhost:8080/"
        },
        "id": "k3jW8Vv0QM7B",
        "outputId": "db02138e-5419-4119-f55a-0fde2b502fbc"
      },
      "execution_count": 2,
      "outputs": [
        {
          "output_type": "stream",
          "name": "stdout",
          "text": [
            "Ingrese la tabla de multiplicar: 5\n",
            "Tabla de multiplicar del 5\n",
            "5 x 1 = 5\n",
            "5 x 2 = 10\n",
            "5 x 3 = 15\n",
            "5 x 4 = 20\n",
            "5 x 5 = 25\n",
            "5 x 6 = 30\n",
            "5 x 7 = 35\n",
            "5 x 8 = 40\n",
            "5 x 9 = 45\n",
            "5 x 10 = 50\n"
          ]
        }
      ]
    },
    {
      "cell_type": "code",
      "source": [
        "for i in range(2,22,2):\n",
        "    print(f\"{int(i/2)}x{2}={int(i/2)*2}\")"
      ],
      "metadata": {
        "colab": {
          "base_uri": "https://localhost:8080/"
        },
        "id": "G4b3hLUJQ9F6",
        "outputId": "83f21e94-90ef-4d0e-a2d1-dc08febd2bbd"
      },
      "execution_count": 3,
      "outputs": [
        {
          "output_type": "stream",
          "name": "stdout",
          "text": [
            "1x2=2\n",
            "2x2=4\n",
            "3x2=6\n",
            "4x2=8\n",
            "5x2=10\n",
            "6x2=12\n",
            "7x2=14\n",
            "8x2=16\n",
            "9x2=18\n",
            "10x2=20\n"
          ]
        }
      ]
    },
    {
      "cell_type": "code",
      "source": [
        "n = int(input(\"Introduce el número para la tabla de multiplicar: \"))\n",
        "paso = int(input(\"Introduce el paso: \"))\n",
        "\n",
        "for i in range(1, 11, paso):  # Se multiplica desde 1 hasta 10 con el paso dado\n",
        "    resultado = n * i\n",
        "    print(f\"{n} x {i} = {resultado}\")"
      ],
      "metadata": {
        "colab": {
          "base_uri": "https://localhost:8080/"
        },
        "id": "biakJX9NRebZ",
        "outputId": "01ba6dcc-4686-46f4-8817-e519fd6a320d"
      },
      "execution_count": 4,
      "outputs": [
        {
          "output_type": "stream",
          "name": "stdout",
          "text": [
            "Introduce el número para la tabla de multiplicar: 8\n",
            "Introduce el paso: 2\n",
            "8 x 1 = 8\n",
            "8 x 3 = 24\n",
            "8 x 5 = 40\n",
            "8 x 7 = 56\n",
            "8 x 9 = 72\n"
          ]
        }
      ]
    },
    {
      "cell_type": "code",
      "source": [
        "a=[\"Vainilla\", \"Chocolate\", \"Chicle\", \"Arequipe\", \"Fresa\"]\n",
        "#Quiero imprimir la disponibilidad de sabores\n",
        "print(\"Los sabores disponibles son: \")\n",
        "for x in a:\n",
        "    print(x)"
      ],
      "metadata": {
        "colab": {
          "base_uri": "https://localhost:8080/"
        },
        "id": "KPR740b1TFeR",
        "outputId": "497d598e-33b8-4fb5-c5d6-e728c2aa2335"
      },
      "execution_count": 5,
      "outputs": [
        {
          "output_type": "stream",
          "name": "stdout",
          "text": [
            "Los sabores disponibles son: \n",
            "Vainilla\n",
            "Chocolate\n",
            "Chicle\n",
            "Arequipe\n",
            "Fresa\n"
          ]
        }
      ]
    },
    {
      "cell_type": "code",
      "source": [
        "a=[\"1.Vainilla\", \"2.Chocolate\", \"3.Chicle\", \"4.Arequipe\", \"5.Fresa\"]\n",
        "#Quiero imprimir la disponibilidad de sabores\n",
        "print(\"Los sabores disponibles son: \")\n",
        "for x in a:\n",
        "    print(x)"
      ],
      "metadata": {
        "colab": {
          "base_uri": "https://localhost:8080/"
        },
        "id": "HqmXcOpfTqdX",
        "outputId": "9796cab0-6220-4ca9-e9c6-be36eb74a38e"
      },
      "execution_count": 6,
      "outputs": [
        {
          "output_type": "stream",
          "name": "stdout",
          "text": [
            "Los sabores disponibles son: \n",
            "1.Vainilla\n",
            "2.Chocolate\n",
            "3.Chicle\n",
            "4.Arequipe\n",
            "5.Fresa\n"
          ]
        }
      ]
    },
    {
      "cell_type": "code",
      "source": [
        "a=[\"Vainilla\", \"Chocolate\", \"Chicle\", \"Arequipe\", \"Fresa\"]\n",
        "#Quiero imprimir la disponibilidad de sabores\n",
        "print(\"Los sabores disponibles son: \")\n",
        "for x in a:\n",
        "    print(f\"{b}, {x}\")\n",
        "    b+=1"
      ],
      "metadata": {
        "id": "iVBpeL8kUXmf"
      },
      "execution_count": null,
      "outputs": []
    },
    {
      "cell_type": "markdown",
      "source": [
        "##2. ESTRUCTURA MIENTRAS\n",
        "\n",
        "\n",
        "\n",
        "1.   Se detiene cuando la condición de entrada es FAlSA\n",
        "2.   Se usa cuando no sabemos cuantas veces se debe repetir un ciclo\n",
        "3.   Debo crear  una condición\n",
        "\n",
        "\n",
        "\n"
      ],
      "metadata": {
        "id": "-jvgMUsxU69m"
      }
    },
    {
      "cell_type": "code",
      "source": [
        "c=1\n",
        "while True:\n",
        "  a=input(\"Estoy adentro \")\n",
        "  if c==5: break\n",
        "  c+=1\n",
        "print(\"Salí\")"
      ],
      "metadata": {
        "colab": {
          "base_uri": "https://localhost:8080/"
        },
        "id": "Z3-MQFEPU5jW",
        "outputId": "687136e9-fdcf-435e-8a19-cfdaec5fd6be"
      },
      "execution_count": 21,
      "outputs": [
        {
          "output_type": "stream",
          "name": "stdout",
          "text": [
            "Estoy adentro o\n",
            "Estoy adentro o\n",
            "Estoy adentro o\n",
            "Estoy adentro o\n",
            "Estoy adentro o\n",
            "Salí\n"
          ]
        }
      ]
    },
    {
      "cell_type": "code",
      "source": [
        "import random\n",
        "gasolina=random.randint(10,100)\n",
        "distancia=random.randint(10,20)\n",
        "\n",
        "while gasolina<=45: #Para activar AI\n",
        "  print(\"No hay gasolina. \\nDeseas ir a la gasolinera mas cercana?\")\n",
        "  user=input(\"1.Si\\n2.No\\n\")\n",
        "  if user==\"1\": #para ver si quiere ir, o no, o se equivocó\n",
        "    print(f\"La gasolinera más cercana se encuentra a {distancia}km\")\n",
        "    gasolina=100\n",
        "  elif user==\"2\":\n",
        "    print(\"comprendo. \")\n",
        "    break\n",
        "  else:\n",
        "    print(\"Opción no válida. Por favor, elige 1 o 2.\")\n",
        "    user=input(\"1.Si\\n2.No\\n\")\n",
        "    while user!=\"1\" or user!=\"2\": #Obligar al usuario a responder bien\n",
        "     print (\"Opción no válida. Por favor, elige 1 o 2.\")\n",
        "     user=input(\"1.Si\\n2.No\\n\")\n",
        ""
      ],
      "metadata": {
        "colab": {
          "base_uri": "https://localhost:8080/"
        },
        "id": "uI_u59SxWIpO",
        "outputId": "14ef2565-bb02-4242-d2c9-ad76b6d79c07"
      },
      "execution_count": 54,
      "outputs": [
        {
          "output_type": "stream",
          "name": "stdout",
          "text": [
            "No hay gasolina. \n",
            "Deseas ir a la gasolinera mas cercana?\n",
            "1.Si\n",
            "2.No\n",
            "1\n",
            "La gasolinera más cercana se encuentra a 15km\n"
          ]
        }
      ]
    }
  ]
}