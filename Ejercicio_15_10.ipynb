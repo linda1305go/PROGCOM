{
  "nbformat": 4,
  "nbformat_minor": 0,
  "metadata": {
    "colab": {
      "provenance": [],
      "authorship_tag": "ABX9TyP2em8NMK5whYUKdjDHS3rI",
      "include_colab_link": true
    },
    "kernelspec": {
      "name": "python3",
      "display_name": "Python 3"
    },
    "language_info": {
      "name": "python"
    }
  },
  "cells": [
    {
      "cell_type": "markdown",
      "metadata": {
        "id": "view-in-github",
        "colab_type": "text"
      },
      "source": [
        "<a href=\"https://colab.research.google.com/github/linda1305go/PROGCOM/blob/main/Ejercicio_15_10.ipynb\" target=\"_parent\"><img src=\"https://colab.research.google.com/assets/colab-badge.svg\" alt=\"Open In Colab\"/></a>"
      ]
    },
    {
      "cell_type": "code",
      "source": [
        "class Estudiante:\n",
        "    def _init_(self, nombre):\n",
        "        self.nombre = nombre\n",
        "        self._nota1 = 0\n",
        "        self._nota2 = 0\n",
        "        self._nota3 = 0\n",
        "\n",
        "    @property\n",
        "    def nota1(self):\n",
        "        return self._nota1\n",
        "\n",
        "    @nota1.setter\n",
        "    def nota1(self, valor):\n",
        "        if 0 <= valor <= 100:\n",
        "            self._nota1 = valor\n",
        "        else:\n",
        "            raise ValueError(\"La nota debe estar entre 0 y 100.\")\n",
        "\n",
        "    @property\n",
        "    def nota2(self):\n",
        "        return self._nota2\n",
        "\n",
        "    @nota2.setter\n",
        "    def nota2(self, valor):\n",
        "        if 0 <= valor <= 100:\n",
        "            self._nota2 = valor\n",
        "        else:\n",
        "            raise ValueError(\"La nota debe estar entre 0 y 100.\")\n",
        "\n",
        "    @property\n",
        "    def nota3(self):\n",
        "        return self._nota3\n",
        "\n",
        "    @nota3.setter\n",
        "    def nota3(self, valor):\n",
        "        if 0 <= valor <= 100:\n",
        "            self._nota3 = valor\n",
        "        else:\n",
        "            raise ValueError(\"La nota debe estar entre 0 y 100.\")\n",
        "\n",
        "    def calcular_nota_final(self):\n",
        "        if self.nota1 >= 70 and self.nota2 >= 70 and self.nota3 >= 70:\n",
        "            return (self.nota1 + self.nota2 + self.nota3) / 3\n",
        "        else:\n",
        "            return None  # Indica que no acreditó\n",
        "\n",
        "\n",
        "class Salon:\n",
        "    def _init_(self):\n",
        "        self.estudiantes = []\n",
        "\n",
        "    def agregar_estudiante(self, estudiante):\n",
        "        self.estudiantes.append(estudiante)\n",
        "\n",
        "    def imprimir_reporte(self):\n",
        "        print(\"\\nREPORTE DE CALIFICACIONES\")\n",
        "        print(\"NOMBRE\\tNOTA1\\tNOTA2\\tNOTA3\\tNOTA FINAL\")\n",
        "        print(\"--------------------------------------------------\")\n",
        "\n",
        "        for estudiante in self.estudiantes:\n",
        "            nota_final = estudiante.calcular_nota_final()\n",
        "            if nota_final is not None:\n",
        "                print(f\"{estudiante.nombre}\\t{estudiante.nota1}\\t{estudiante.nota2}\\t{estudiante.nota3}\\t{nota_final:.2f}\")\n",
        "            else:\n",
        "                print(f\"{estudiante.nombre}\\t{estudiante.nota1}\\t{estudiante.nota2}\\t{estudiante.nota3}\\tNA (No Acreditado)\")\n",
        "\n",
        "        total_estudiantes = len(self.estudiantes)\n",
        "        print(f\"\\nTOTAL {total_estudiantes} ESTUDIANTES\")\n",
        "        print(total_estudiantes)\n",
        "\n",
        "\n",
        "# Programa principal\n",
        "def main():\n",
        "    salon = Salon()\n",
        "\n",
        "    for i in range(2):  # Solo se procesan 15 estudiantes\n",
        "        print(f\"Ingrese los datos del estudiante {i + 1}:\")\n",
        "        nombre = input(\"Nombre del estudiante: \")\n",
        "        estudiante = Estudiante(nombre)\n",
        "\n",
        "        # Uso de setters para establecer las notas\n",
        "        while True:\n",
        "            try:\n",
        "                nota1 = float(input(\"Nota 1: \"))\n",
        "                estudiante.nota1 = nota1\n",
        "                break\n",
        "            except ValueError as e:\n",
        "                print(e)\n",
        "\n",
        "        while True:\n",
        "            try:\n",
        "                nota2 = float(input(\"Nota 2: \"))\n",
        "                estudiante.nota2 = nota2\n",
        "                break\n",
        "            except ValueError as e:\n",
        "                print(e)\n",
        "\n",
        "        while True:\n",
        "            try:\n",
        "                nota3 = float(input(\"Nota 3: \"))\n",
        "                estudiante.nota3 = nota3\n",
        "                break\n",
        "            except ValueError as e:\n",
        "                print(e)\n",
        "\n",
        "        salon.agregar_estudiante(estudiante)\n",
        "\n",
        "    salon.imprimir_reporte()\n",
        "\n",
        "\n",
        "if _name_ == \"_main_\":\n",
        "    main()"
      ],
      "metadata": {
        "colab": {
          "base_uri": "https://localhost:8080/",
          "height": 193
        },
        "id": "Q7SI3-cDp4C-",
        "outputId": "f9fce536-62fd-40f2-b1d8-ebee775aa1f1"
      },
      "execution_count": null,
      "outputs": [
        {
          "output_type": "error",
          "ename": "NameError",
          "evalue": "name '_name_' is not defined",
          "traceback": [
            "\u001b[0;31m---------------------------------------------------------------------------\u001b[0m",
            "\u001b[0;31mNameError\u001b[0m                                 Traceback (most recent call last)",
            "\u001b[0;32m<ipython-input-19-5c5f0a4f1588>\u001b[0m in \u001b[0;36m<cell line: 111>\u001b[0;34m()\u001b[0m\n\u001b[1;32m    109\u001b[0m \u001b[0;34m\u001b[0m\u001b[0m\n\u001b[1;32m    110\u001b[0m \u001b[0;34m\u001b[0m\u001b[0m\n\u001b[0;32m--> 111\u001b[0;31m \u001b[0;32mif\u001b[0m \u001b[0m_name_\u001b[0m \u001b[0;34m==\u001b[0m \u001b[0;34m\"_main_\"\u001b[0m\u001b[0;34m:\u001b[0m\u001b[0;34m\u001b[0m\u001b[0;34m\u001b[0m\u001b[0m\n\u001b[0m\u001b[1;32m    112\u001b[0m     \u001b[0mmain\u001b[0m\u001b[0;34m(\u001b[0m\u001b[0;34m)\u001b[0m\u001b[0;34m\u001b[0m\u001b[0;34m\u001b[0m\u001b[0m\n",
            "\u001b[0;31mNameError\u001b[0m: name '_name_' is not defined"
          ]
        }
      ]
    }
  ]
}