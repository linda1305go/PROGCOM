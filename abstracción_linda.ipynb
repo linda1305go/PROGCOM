{
  "nbformat": 4,
  "nbformat_minor": 0,
  "metadata": {
    "colab": {
      "provenance": [],
      "authorship_tag": "ABX9TyP3R3WmXgOMP1Au/cm1lH3s",
      "include_colab_link": true
    },
    "kernelspec": {
      "name": "python3",
      "display_name": "Python 3"
    },
    "language_info": {
      "name": "python"
    }
  },
  "cells": [
    {
      "cell_type": "markdown",
      "metadata": {
        "id": "view-in-github",
        "colab_type": "text"
      },
      "source": [
        "<a href=\"https://colab.research.google.com/github/linda1305go/PROGCOM/blob/main/abstracci%C3%B3n_linda.ipynb\" target=\"_parent\"><img src=\"https://colab.research.google.com/assets/colab-badge.svg\" alt=\"Open In Colab\"/></a>"
      ]
    },
    {
      "cell_type": "code",
      "execution_count": null,
      "metadata": {
        "id": "giy7YZcQspms"
      },
      "outputs": [],
      "source": [
        "import random\n",
        "\n",
        "class SilentTeacher:\n",
        "    def __init__(self):\n",
        "        self.encapsulamiento_exercises = [\n",
        "            {\n",
        "                \"exercise\": \"Crea una clase 'TarjetaCredito' con un atributo privado 'limite' y métodos para aumentar y disminuir el límite.\",\n",
        "                \"solution\": \"class TarjetaCredito:\\n    def __init__(self, limite):\\n        self.__limite = limite\\n    def aumentar_limite(self, cantidad):\\n        self.__limite += cantidad\\n    def disminuir_limite(self, cantidad):\\n        if cantidad <= self.__limite:\\n            self.__limite -= cantidad\"\n",
        "            },\n",
        "            {\n",
        "                \"exercise\": \"Define una clase 'Cliente' que tenga un atributo privado 'nombre' y un método para mostrar el nombre del cliente.\",\n",
        "                \"solution\": \"class Cliente:\\n    def __init__(self, nombre):\\n        self.__nombre = nombre\\n    def mostrar_nombre(self):\\n        return self.__nombre\"\n",
        "            },\n",
        "            {\n",
        "                \"exercise\": \"Crea una clase 'Libro' con un atributo privado 'autor' y métodos para obtener y establecer el autor.\",\n",
        "                \"solution\": \"class Libro:\\n    def __init__(self, autor):\\n        self.__autor = autor\\n    def get_autor(self):\\n        return self.__autor\\n    def set_autor(self, autor):\\n        self.__autor = autor\"\n",
        "            },\n",
        "            {\n",
        "                \"exercise\": \"Implementa una clase 'CuentaUsuario' que tenga un atributo privado 'usuario' y un método para mostrar la información del usuario.\",\n",
        "                \"solution\": \"class CuentaUsuario:\\n    def __init__(self, usuario):\\n        self.__usuario = usuario\\n    def mostrar_info(self):\\n        return f'Usuario: {self.__usuario}'\"\n",
        "            },\n",
        "            {\n",
        "                \"exercise\": \"Crea una clase 'CestaCompra' con un atributo privado 'items' (lista) y métodos para agregar y mostrar items.\",\n",
        "                \"solution\": \"class CestaCompra:\\n    def __init__(self):\\n        self.__items = []\\n    def agregar_item(self, item):\\n        self.__items.append(item)\\n    def mostrar_items(self):\\n        return self.__items\"\n",
        "            },\n",
        "        ]\n",
        "\n",
        "        self.abstraccion_exercises = [\n",
        "            {\n",
        "                \"exercise\": \"Crea una clase abstracta 'Vehiculo' con un método abstracto 'acelerar'. Luego, crea subclases 'Motocicleta' y 'Camioneta' que implementen este método.\",\n",
        "                \"solution\": \"from abc import ABC, abstractmethod\\nclass Vehiculo(ABC):\\n    @abstractmethod\\n    def acelerar(self):\\n        pass\\nclass Motocicleta(Vehiculo):\\n    def acelerar(self):\\n        return 'La motocicleta acelera'\\nclass Camioneta(Vehiculo):\\n    def acelerar(self):\\n        return 'La camioneta acelera'\"\n",
        "            },\n",
        "            {\n",
        "                \"exercise\": \"Define una clase abstracta 'InstrumentoMusical' con un método abstracto 'afinar'. Crea subclases 'Violin' y 'Batería' que implementen este método.\",\n",
        "                \"solution\": \"from abc import ABC, abstractmethod\\nclass InstrumentoMusical(ABC):\\n    @abstractmethod\\n    def afinar(self):\\n        pass\\nclass Violin(InstrumentoMusical):\\n    def afinar(self):\\n        return 'Afinando el violín'\\nclass Batería(InstrumentoMusical):\\n    def afinar(self):\\n        return 'Afinando la batería'\"\n",
        "            },\n",
        "            {\n",
        "                \"exercise\": \"Crea una clase abstracta 'Dispositivo' con un método abstracto 'encender'. Luego, crea subclases 'Televisor' y 'Laptop'.\",\n",
        "                \"solution\": \"from abc import ABC, abstractmethod\\nclass Dispositivo(ABC):\\n    @abstractmethod\\n    def encender(self):\\n        pass\\nclass Televisor(Dispositivo):\\n    def encender(self):\\n        return 'El televisor se enciende'\\nclass Laptop(Dispositivo):\\n    def encender(self):\\n        return 'La laptop se enciende'\"\n",
        "            },\n",
        "            {\n",
        "                \"exercise\": \"Define una clase abstracta 'CuentaBancaria' con un método abstracto 'consultar_saldo'. Crea subclases 'CuentaCorriente' y 'CuentaAhorro'.\",\n",
        "                \"solution\": \"from abc import ABC, abstractmethod\\nclass CuentaBancaria(ABC):\\n    @abstractmethod\\n    def consultar_saldo(self):\\n        pass\\nclass CuentaCorriente(CuentaBancaria):\\n    def __init__(self, saldo):\\n        self.saldo = saldo\\n    def consultar_saldo(self):\\n        return self.saldo\\nclass CuentaAhorro(CuentaBancaria):\\n    def __init__(self, saldo):\\n        self.saldo = saldo\\n    def consultar_saldo(self):\\n        return self.saldo\"\n",
        "            },\n",
        "        ]\n",
        "\n",
        "    def ask_exercise(self, exercise_type):\n",
        "        if exercise_type == \"encapsulamiento\":\n",
        "            exercise_data = random.choice(self.encapsulamiento_exercises)\n",
        "        else:\n",
        "            exercise_data = random.choice(self.abstraccion_exercises)\n",
        "\n",
        "        user_solution = input(f\"Ejercicio: {exercise_data['exercise']} \\nEscribe tu solución:\\n\")\n",
        "\n",
        "        if user_solution.strip() == exercise_data['solution'].strip():\n",
        "            print(\"¡Correcto!\")\n",
        "        else:\n",
        "            print(\"Incorrecto. Aquí está una posible solución:\\n\", exercise_data[\"solution\"])\n",
        "            self.ask_similar_exercise(exercise_data[\"exercise\"], exercise_type)\n",
        "\n",
        "    def ask_similar_exercise(self, original_exercise, exercise_type):\n",
        "        similar_exercises = [\n",
        "            \"Modifica el ejercicio anterior para agregar un método adicional.\",\n",
        "            \"Crea un ejercicio que use un atributo adicional.\",\n",
        "            \"Crea una clase relacionada que implemente características similares.\",\n",
        "        ]\n",
        "\n",
        "        new_exercise = random.choice(similar_exercises)\n",
        "        user_solution = input(f\"Ejercicio similar: {new_exercise} \\nEscribe tu solución:\\n\")\n",
        "        print(\"Gracias por tu respuesta.\")\n",
        "\n",
        "def main():\n",
        "    teacher = SilentTeacher()\n",
        "    while True:\n",
        "        exercise_type = input(\"¿Qué tipo de ejercicio quieres resolver? (encapsulamiento/abstracción): \")\n",
        "        if exercise_type in [\"encapsulamiento\", \"abstracción\"]:\n",
        "            teacher.ask_exercise(exercise_type)\n",
        "        else:\n",
        "            print(\"Tipo de ejercicio no válido.\")\n",
        "\n",
        "        continue_game = input(\"¿Quieres resolver otro ejercicio? (s/n) \")\n",
        "        if continue_game.lower() != 's':\n",
        "            break\n",
        "\n",
        "if __name__ == \"__main__\":\n",
        "    main()\n"
      ]
    }
  ]
}