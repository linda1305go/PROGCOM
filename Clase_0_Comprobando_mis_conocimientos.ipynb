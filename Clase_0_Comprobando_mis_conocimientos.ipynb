{
  "nbformat": 4,
  "nbformat_minor": 0,
  "metadata": {
    "colab": {
      "provenance": []
    },
    "kernelspec": {
      "name": "python3",
      "display_name": "Python 3"
    },
    "language_info": {
      "name": "python"
    }
  },
  "cells": [
    {
      "cell_type": "markdown",
      "source": [
        "#Prueba de evalucación de conocimientos\n",
        "\n",
        "\n",
        "\n",
        "\n",
        "\n"
      ],
      "metadata": {
        "id": "E_ncK1C0FNa4"
      }
    },
    {
      "cell_type": "markdown",
      "source": [
        "##Tipos de datos\n",
        "###1. Numérico\n",
        "- Entero: int\n",
        "- Decimal: float\n",
        "###2: Alfanumérico o cadena de caracteres.\n",
        "(string - str)\n",
        "###3. Lógico:\n",
        "-Boolean - bool\n",
        "###4. Lista:\n",
        "-list[]\n",
        "###5. Diccionario:\n",
        "-dict{}\n",
        "\n",
        "Para saber que tipos de datos estamos manipulando, se usa la funcióm type()\n"
      ],
      "metadata": {
        "id": "QmS87EbDFvtX"
      }
    },
    {
      "cell_type": "code",
      "source": [
        "5+3*4"
      ],
      "metadata": {
        "colab": {
          "base_uri": "https://localhost:8080/"
        },
        "id": "wGe5mP6EGHrf",
        "outputId": "b3268eb0-7d75-45e0-ddbb-e0aa018c1abc"
      },
      "execution_count": null,
      "outputs": [
        {
          "output_type": "execute_result",
          "data": {
            "text/plain": [
              "17"
            ]
          },
          "metadata": {},
          "execution_count": 1
        }
      ]
    },
    {
      "cell_type": "code",
      "source": [
        "type(5+3*4)"
      ],
      "metadata": {
        "colab": {
          "base_uri": "https://localhost:8080/"
        },
        "id": "jpeWbMUfHTDe",
        "outputId": "d2731743-a7d0-4c22-95fb-dc0f3969fc20"
      },
      "execution_count": null,
      "outputs": [
        {
          "output_type": "execute_result",
          "data": {
            "text/plain": [
              "int"
            ]
          },
          "metadata": {},
          "execution_count": 2
        }
      ]
    },
    {
      "cell_type": "code",
      "source": [
        "print(f\"5+3*4={5+3*4} y da como resultado un valor de tipo {type(5+3*4)}\")"
      ],
      "metadata": {
        "colab": {
          "base_uri": "https://localhost:8080/"
        },
        "id": "eLM0Aw_7HXuV",
        "outputId": "9c399d06-1f81-4225-9c7d-8d17006ad2dc"
      },
      "execution_count": null,
      "outputs": [
        {
          "output_type": "stream",
          "name": "stdout",
          "text": [
            "5+3*4=17 y da como resultado un valor de tipo <class 'int'>\n"
          ]
        }
      ]
    },
    {
      "cell_type": "code",
      "source": [
        "#Cuando se usa + con \"\" sucede la concatenación\n",
        "\"5\"+\"3\"*2"
      ],
      "metadata": {
        "colab": {
          "base_uri": "https://localhost:8080/",
          "height": 35
        },
        "id": "tSzE44eLHx0_",
        "outputId": "bfda5cb7-dca4-4899-b318-28c57ce9e04d"
      },
      "execution_count": null,
      "outputs": [
        {
          "output_type": "execute_result",
          "data": {
            "text/plain": [
              "'533'"
            ],
            "application/vnd.google.colaboratory.intrinsic+json": {
              "type": "string"
            }
          },
          "metadata": {},
          "execution_count": 4
        }
      ]
    },
    {
      "cell_type": "code",
      "source": [
        "# = es asignación. == es comparación\n",
        "2 ** 11 == 1000"
      ],
      "metadata": {
        "id": "EeO16ajsIjLF"
      },
      "execution_count": null,
      "outputs": []
    },
    {
      "cell_type": "markdown",
      "source": [
        "##Operaciones lógicas\n",
        "###1. Disyunción (o) :\n",
        " Una proposición es verdadera, si al menos una de ella lo es: en Phyton se puede enunciar con la palabra **or** o con **||**\n",
        "Ejemplo V OR V da V.\n",
        "V OR F da V.\n",
        "F OR V da V.\n",
        "F OR F da F.\n",
        "###2. Conjunción (y):\n",
        "una preposición es verdadera, si y SOLO SI, ambas preposiciones son verdaderas. En Pythn, se utiliza la palabra **and**\n",
        "o **&&** para su uso.\n",
        "Ejemplo:\n",
        "F and F da F\n",
        "F and V da F\n",
        "V and F da F\n",
        "V and V da V\n",
        "###3. Negación (no):\n",
        "Niega el valor de la verdad de una preposición. Si el valor de la verdad es true, se vuelve false. En Python se usa la palabra **not** o ~ para denotarla"
      ],
      "metadata": {
        "id": "mO0oGJ10JUoc"
      }
    },
    {
      "cell_type": "code",
      "source": [
        "a=2 ** 11 == 1000 or 2 ** 9 == 100"
      ],
      "metadata": {
        "id": "mEFk1O21L9cq"
      },
      "execution_count": null,
      "outputs": []
    },
    {
      "cell_type": "code",
      "source": [
        "print(f\"El valor de la expresion a=2 ** 11 == 1000 or 2 ** 9 == 100 es {a}\")"
      ],
      "metadata": {
        "colab": {
          "base_uri": "https://localhost:8080/"
        },
        "id": "ALu67ltYLeOC",
        "outputId": "c31d3d79-0bd2-4aef-9329-e528962864da"
      },
      "execution_count": null,
      "outputs": [
        {
          "output_type": "stream",
          "name": "stdout",
          "text": [
            "El valor de la expresion a=2 ** 11 == 1000 or 2 ** 9 == 100 es False\n"
          ]
        }
      ]
    },
    {
      "cell_type": "code",
      "source": [
        "#Colocar un tipo de de dato antes del dato, se usa para transpormar el dato que esta dentro del parentesis en el dato que esta fuera del parentesis\n",
        "int(\"Cincuenta\")"
      ],
      "metadata": {
        "id": "rKE-dbQIM9Hx"
      },
      "execution_count": null,
      "outputs": []
    },
    {
      "cell_type": "code",
      "source": [
        "int(\"50\")"
      ],
      "metadata": {
        "id": "0DqIG2qkNYPJ"
      },
      "execution_count": null,
      "outputs": []
    },
    {
      "cell_type": "code",
      "source": [
        "str(\"50\")"
      ],
      "metadata": {
        "id": "MNkDRmLGNbK5"
      },
      "execution_count": null,
      "outputs": []
    },
    {
      "cell_type": "code",
      "source": [
        "#Siempre que halla una división, el resultado dará decimal (float)\n",
        "16/16 + 384/24"
      ],
      "metadata": {
        "colab": {
          "base_uri": "https://localhost:8080/"
        },
        "id": "Su9nyL8COZco",
        "outputId": "658c187d-4df9-4ea9-cd9e-ef82be446a9e"
      },
      "execution_count": null,
      "outputs": [
        {
          "output_type": "execute_result",
          "data": {
            "text/plain": [
              "17.0"
            ]
          },
          "metadata": {},
          "execution_count": 8
        }
      ]
    },
    {
      "cell_type": "code",
      "source": [
        "type(16/16 + 384/24)"
      ],
      "metadata": {
        "colab": {
          "base_uri": "https://localhost:8080/"
        },
        "id": "gyF1fFxQOm54",
        "outputId": "3967371f-2417-41cd-a78f-8a4eba94f5f5"
      },
      "execution_count": null,
      "outputs": [
        {
          "output_type": "execute_result",
          "data": {
            "text/plain": [
              "float"
            ]
          },
          "metadata": {},
          "execution_count": 9
        }
      ]
    },
    {
      "cell_type": "code",
      "source": [
        "# % es el módulo de la operación.\n",
        "600 + 18%2"
      ],
      "metadata": {
        "colab": {
          "base_uri": "https://localhost:8080/"
        },
        "id": "kq6IojVNPAre",
        "outputId": "64c5dda3-9e06-4685-a4b7-271bef898617"
      },
      "execution_count": null,
      "outputs": [
        {
          "output_type": "execute_result",
          "data": {
            "text/plain": [
              "600"
            ]
          },
          "metadata": {},
          "execution_count": 11
        }
      ]
    },
    {
      "cell_type": "code",
      "source": [
        "0 < (4096 % 10) < 6"
      ],
      "metadata": {
        "colab": {
          "base_uri": "https://localhost:8080/"
        },
        "id": "MkeZ7JLGQbKW",
        "outputId": "bafd013a-5f9b-4b3d-9240-8622fe966987"
      },
      "execution_count": null,
      "outputs": [
        {
          "output_type": "execute_result",
          "data": {
            "text/plain": [
              "False"
            ]
          },
          "metadata": {},
          "execution_count": 12
        }
      ]
    },
    {
      "cell_type": "code",
      "source": [
        "'Max' + 'Min'"
      ],
      "metadata": {
        "colab": {
          "base_uri": "https://localhost:8080/",
          "height": 35
        },
        "id": "-uQd4UhuQhaW",
        "outputId": "b8f2bf03-9aa5-443f-e5b5-f78625c624e3"
      },
      "execution_count": null,
      "outputs": [
        {
          "output_type": "execute_result",
          "data": {
            "text/plain": [
              "'MaxMin'"
            ],
            "application/vnd.google.colaboratory.intrinsic+json": {
              "type": "string"
            }
          },
          "metadata": {},
          "execution_count": 13
        }
      ]
    },
    {
      "cell_type": "code",
      "source": [
        "b='Max' + 'Min'"
      ],
      "metadata": {
        "id": "dEQnjB6BQ_dd"
      },
      "execution_count": null,
      "outputs": []
    },
    {
      "cell_type": "code",
      "source": [
        "print(f\"El valor de la expresión 'Max' + 'Min' es {b} {type(b)}\")"
      ],
      "metadata": {
        "colab": {
          "base_uri": "https://localhost:8080/"
        },
        "id": "9Dwmu4v_RkuF",
        "outputId": "47024796-ecd5-4c3c-b267-4afc417c61cb"
      },
      "execution_count": null,
      "outputs": [
        {
          "output_type": "stream",
          "name": "stdout",
          "text": [
            "El valor de la expresión 'Max' + 'Min' es MaxMin <class 'str'>\n"
          ]
        }
      ]
    },
    {
      "cell_type": "code",
      "source": [
        "#ABC() Es una función no definida\n",
        "ABC() * DEF()"
      ],
      "metadata": {
        "colab": {
          "base_uri": "https://localhost:8080/",
          "height": 141
        },
        "id": "aXrI1ZBhR9uW",
        "outputId": "914054e6-4a5b-4142-84a5-350853157d87"
      },
      "execution_count": null,
      "outputs": [
        {
          "output_type": "error",
          "ename": "NameError",
          "evalue": "name 'ABC' is not defined",
          "traceback": [
            "\u001b[0;31m---------------------------------------------------------------------------\u001b[0m",
            "\u001b[0;31mNameError\u001b[0m                                 Traceback (most recent call last)",
            "\u001b[0;32m<ipython-input-17-b03c5ee783c9>\u001b[0m in \u001b[0;36m<cell line: 1>\u001b[0;34m()\u001b[0m\n\u001b[0;32m----> 1\u001b[0;31m \u001b[0mABC\u001b[0m\u001b[0;34m(\u001b[0m\u001b[0;34m)\u001b[0m \u001b[0;34m*\u001b[0m \u001b[0mDEF\u001b[0m\u001b[0;34m(\u001b[0m\u001b[0;34m)\u001b[0m\u001b[0;34m\u001b[0m\u001b[0;34m\u001b[0m\u001b[0m\n\u001b[0m",
            "\u001b[0;31mNameError\u001b[0m: name 'ABC' is not defined"
          ]
        }
      ]
    },
    {
      "cell_type": "code",
      "source": [
        "float(-int(\"7\")+int('90'))"
      ],
      "metadata": {
        "colab": {
          "base_uri": "https://localhost:8080/"
        },
        "id": "EOMfcAnqSeNs",
        "outputId": "50da180e-86c2-4aab-c7fb-26dab04d3216"
      },
      "execution_count": null,
      "outputs": [
        {
          "output_type": "execute_result",
          "data": {
            "text/plain": [
              "83.0"
            ]
          },
          "metadata": {},
          "execution_count": 19
        }
      ]
    },
    {
      "cell_type": "markdown",
      "source": [
        "abs(len('seis') - len ('tres'))\n",
        "1. **abs**= valor absoluto.\n",
        "2. **len**= cuenta la cantidad de letras de un string\n",
        "\n",
        "- len('seis')=4\n",
        "- len('tres')=4"
      ],
      "metadata": {
        "id": "B1yFLiWSTR8s"
      }
    },
    {
      "cell_type": "code",
      "source": [
        "abs(len('seis') - len('tres'))"
      ],
      "metadata": {
        "colab": {
          "base_uri": "https://localhost:8080/"
        },
        "id": "A9trGbfHT1is",
        "outputId": "bad0d693-e498-4a32-c8b2-f30675e18c76"
      },
      "execution_count": null,
      "outputs": [
        {
          "output_type": "execute_result",
          "data": {
            "text/plain": [
              "0"
            ]
          },
          "metadata": {},
          "execution_count": 21
        }
      ]
    },
    {
      "cell_type": "code",
      "source": [
        "# 0 es el único 'false'\n",
        "bool(1210) or bool(-3465)"
      ],
      "metadata": {
        "colab": {
          "base_uri": "https://localhost:8080/"
        },
        "id": "MWzXNC32THe8",
        "outputId": "d765df83-0444-48af-af7c-ab1e4071d206"
      },
      "execution_count": null,
      "outputs": [
        {
          "output_type": "execute_result",
          "data": {
            "text/plain": [
              "True"
            ]
          },
          "metadata": {},
          "execution_count": 20
        }
      ]
    },
    {
      "cell_type": "code",
      "source": [
        "float(str(int('8' * 3) / 3)[3])"
      ],
      "metadata": {
        "colab": {
          "base_uri": "https://localhost:8080/",
          "height": 141
        },
        "id": "UJgiXHn2VG08",
        "outputId": "de22e703-4a21-424b-e7d2-85d1454e724d"
      },
      "execution_count": null,
      "outputs": [
        {
          "output_type": "error",
          "ename": "ValueError",
          "evalue": "could not convert string to float: '.'",
          "traceback": [
            "\u001b[0;31m---------------------------------------------------------------------------\u001b[0m",
            "\u001b[0;31mValueError\u001b[0m                                Traceback (most recent call last)",
            "\u001b[0;32m<ipython-input-22-bafabcb87d9b>\u001b[0m in \u001b[0;36m<cell line: 1>\u001b[0;34m()\u001b[0m\n\u001b[0;32m----> 1\u001b[0;31m \u001b[0mfloat\u001b[0m\u001b[0;34m(\u001b[0m\u001b[0mstr\u001b[0m\u001b[0;34m(\u001b[0m\u001b[0mint\u001b[0m\u001b[0;34m(\u001b[0m\u001b[0;34m'8'\u001b[0m \u001b[0;34m*\u001b[0m \u001b[0;36m3\u001b[0m\u001b[0;34m)\u001b[0m \u001b[0;34m/\u001b[0m \u001b[0;36m3\u001b[0m\u001b[0;34m)\u001b[0m\u001b[0;34m[\u001b[0m\u001b[0;36m3\u001b[0m\u001b[0;34m]\u001b[0m\u001b[0;34m)\u001b[0m\u001b[0;34m\u001b[0m\u001b[0;34m\u001b[0m\u001b[0m\n\u001b[0m",
            "\u001b[0;31mValueError\u001b[0m: could not convert string to float: '.'"
          ]
        }
      ]
    },
    {
      "cell_type": "code",
      "source": [
        "int('8' * 3) / 3"
      ],
      "metadata": {
        "colab": {
          "base_uri": "https://localhost:8080/"
        },
        "id": "jxaJpc7SVZfi",
        "outputId": "8f6cbedd-a3dc-4182-d217-5b2ecbb5232e"
      },
      "execution_count": null,
      "outputs": [
        {
          "output_type": "execute_result",
          "data": {
            "text/plain": [
              "296.0"
            ]
          },
          "metadata": {},
          "execution_count": 24
        }
      ]
    },
    {
      "cell_type": "code",
      "source": [
        "str(296.0)"
      ],
      "metadata": {
        "colab": {
          "base_uri": "https://localhost:8080/",
          "height": 35
        },
        "id": "JIPybgQzV_p6",
        "outputId": "73d9a730-83e3-4758-bc91-fe6acef8ac04"
      },
      "execution_count": null,
      "outputs": [
        {
          "output_type": "execute_result",
          "data": {
            "text/plain": [
              "'296.0'"
            ],
            "application/vnd.google.colaboratory.intrinsic+json": {
              "type": "string"
            }
          },
          "metadata": {},
          "execution_count": 25
        }
      ]
    },
    {
      "cell_type": "code",
      "source": [
        "#Todos los str son listas por eso podemos conocer sus posiciones. Y se comienzan a contar desde 0\n",
        "str(296.0)[3]"
      ],
      "metadata": {
        "colab": {
          "base_uri": "https://localhost:8080/",
          "height": 35
        },
        "id": "zlR8l8JDWC4x",
        "outputId": "643b3d28-a4fb-4e52-fecf-bd44f7aa04a3"
      },
      "execution_count": null,
      "outputs": [
        {
          "output_type": "execute_result",
          "data": {
            "text/plain": [
              "'.'"
            ],
            "application/vnd.google.colaboratory.intrinsic+json": {
              "type": "string"
            }
          },
          "metadata": {},
          "execution_count": 26
        }
      ]
    }
  ]
}