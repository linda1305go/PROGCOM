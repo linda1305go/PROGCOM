{
  "nbformat": 4,
  "nbformat_minor": 0,
  "metadata": {
    "colab": {
      "provenance": [],
      "authorship_tag": "ABX9TyOrN81kwevkrvHQ8b3H0fPw",
      "include_colab_link": true
    },
    "kernelspec": {
      "name": "python3",
      "display_name": "Python 3"
    },
    "language_info": {
      "name": "python"
    }
  },
  "cells": [
    {
      "cell_type": "markdown",
      "metadata": {
        "id": "view-in-github",
        "colab_type": "text"
      },
      "source": [
        "<a href=\"https://colab.research.google.com/github/linda1305go/PROGCOM/blob/main/GOT_HERENCIA.ipynb\" target=\"_parent\"><img src=\"https://colab.research.google.com/assets/colab-badge.svg\" alt=\"Open In Colab\"/></a>"
      ]
    },
    {
      "cell_type": "code",
      "execution_count": 1,
      "metadata": {
        "colab": {
          "base_uri": "https://localhost:8080/"
        },
        "id": "38lCdHEerzOA",
        "outputId": "d2fdd4d7-aad2-4801-979d-44a19b8ed0fe"
      },
      "outputs": [
        {
          "output_type": "stream",
          "name": "stdout",
          "text": [
            "Aerys II es Volátil, paranoico, cruel. Características Targaryen: Ambición, poder, y conexión con el fuego. Aspecto físico: Cabello plateado, ojos violeta o púrpura\n",
            "Rhaegar es Melancólico, noble, idealista. Características Targaryen: Ambición, poder, y conexión con el fuego. Aspecto físico: Cabello plateado, ojos violeta o púrpura\n",
            "Lyanna es Libre, fuerte de carácter, empática. Características Stark: Honor, lealtad, y conexión con el norte. Aspecto físico: Cabello oscuro, ojos grises\n",
            "Daenerys es Ambiciosa, determinada, compasiva pero autoritaria. Características Targaryen: Ambición, poder, y conexión con el fuego. Aspecto físico: Cabello plateado, ojos violeta o púrpura\n",
            "Jon Snow (Aegon Targaryen) es Leal, honorable, valiente, dividido entre sus linajes. Características Targaryen: Ambición, poder, y conexión con el fuego. Aspecto físico: Cabello plateado, ojos violeta o púrpura y Características Stark: Honor, lealtad, y conexión con el norte. Aspecto físico: Cabello oscuro, ojos grises. Aspecto físico único: Cabello oscuro (Stark) y algo de rasgos Targaryen\n"
          ]
        }
      ],
      "source": [
        "# Clase base Targaryen\n",
        "class Targaryen:\n",
        "    def __init__(self): # Changed _init_ to __init__\n",
        "        self.caracteristicas_targaryen = \"Ambición, poder, y conexión con el fuego\"\n",
        "        self.aspecto_fisico_targaryen = \"Cabello plateado, ojos violeta o púrpura\"\n",
        "\n",
        "    def mostrar_gen_targaryen(self):\n",
        "        return f\"Características Targaryen: {self.caracteristicas_targaryen}. Aspecto físico: {self.aspecto_fisico_targaryen}\"\n",
        "\n",
        "# Clase base Stark\n",
        "class Stark:\n",
        "    def __init__(self): # Changed _init_ to __init__\n",
        "        self.caracteristicas_stark = \"Honor, lealtad, y conexión con el norte\"\n",
        "        self.aspecto_fisico_stark = \"Cabello oscuro, ojos grises\"\n",
        "\n",
        "    def mostrar_gen_stark(self):\n",
        "        return f\"Características Stark: {self.caracteristicas_stark}. Aspecto físico: {self.aspecto_fisico_stark}\"\n",
        "\n",
        "# Clase Aerys II Targaryen, heredera de Targaryen\n",
        "class AerysII(Targaryen):\n",
        "    def __init__(self): # Changed _init_ to __init__\n",
        "        super().__init__()\n",
        "        self.nombre = \"Aerys II\"\n",
        "        self.caracter = \"Volátil, paranoico, cruel\"\n",
        "\n",
        "    def mostrar_caracter(self):\n",
        "        return f\"{self.nombre} es {self.caracter}. {self.mostrar_gen_targaryen()}\"\n",
        "\n",
        "# Clase Rhaegar Targaryen, heredera de Targaryen\n",
        "class Rhaegar(Targaryen):\n",
        "    def __init__(self): # Changed _init_ to __init__\n",
        "        super().__init__()\n",
        "        self.nombre = \"Rhaegar\"\n",
        "        self.caracter = \"Melancólico, noble, idealista\"\n",
        "\n",
        "    def mostrar_caracter(self):\n",
        "        return f\"{self.nombre} es {self.caracter}. {self.mostrar_gen_targaryen()}\"\n",
        "\n",
        "# Clase Lyanna Stark, heredera de Stark\n",
        "class Lyanna(Stark):\n",
        "    def __init__(self): # Changed _init_ to __init__\n",
        "        super().__init__()\n",
        "        self.nombre = \"Lyanna\"\n",
        "        self.caracter = \"Libre, fuerte de carácter, empática\"\n",
        "\n",
        "    def mostrar_caracter(self):\n",
        "        return f\"{self.nombre} es {self.caracter}. {self.mostrar_gen_stark()}\"\n",
        "\n",
        "# Clase Daenerys Targaryen, heredera de Targaryen\n",
        "class Daenerys(Targaryen):\n",
        "    def __init__(self): # Changed _init_ to __init__\n",
        "        super().__init__()\n",
        "        self.nombre = \"Daenerys\"\n",
        "        self.caracter = \"Ambiciosa, determinada, compasiva pero autoritaria\"\n",
        "\n",
        "    def mostrar_caracter(self):\n",
        "        return f\"{self.nombre} es {self.caracter}. {self.mostrar_gen_targaryen()}\"\n",
        "\n",
        "# Clase Jon Snow, hereda de ambos Targaryen y Stark\n",
        "class Jon(Targaryen, Stark):\n",
        "    def __init__(self): # Changed _init_ to __init__\n",
        "        Targaryen.__init__(self) # Changed _init_ to __init__\n",
        "        Stark.__init__(self) # Changed _init_ to __init__\n",
        "        self.nombre = \"Jon Snow (Aegon Targaryen)\"\n",
        "        self.caracter = \"Leal, honorable, valiente, dividido entre sus linajes\"\n",
        "        # Jon hereda una combinación de aspectos físicos\n",
        "        self.aspecto_fisico_jon = \"Cabello oscuro (Stark) y algo de rasgos Targaryen\"\n",
        "\n",
        "    def mostrar_caracter(self):\n",
        "        return (f\"{self.nombre} es {self.caracter}. \"\n",
        "                f\"{self.mostrar_gen_targaryen()} y {self.mostrar_gen_stark()}. \"\n",
        "                f\"Aspecto físico único: {self.aspecto_fisico_jon}\")\n",
        "\n",
        "# Crear instancias de cada personaje\n",
        "aerys = AerysII()\n",
        "rhaegar = Rhaegar()\n",
        "lyanna = Lyanna()\n",
        "daenerys = Daenerys()\n",
        "jon = Jon()\n",
        "\n",
        "# Mostrar características y herencia de cada personaje\n",
        "print(aerys.mostrar_caracter())\n",
        "print(rhaegar.mostrar_caracter())\n",
        "print(lyanna.mostrar_caracter())\n",
        "print(daenerys.mostrar_caracter())\n",
        "print(jon.mostrar_caracter())"
      ]
    }
  ]
}